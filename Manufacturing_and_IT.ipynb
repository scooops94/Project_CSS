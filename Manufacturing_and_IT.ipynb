{
 "cells": [
  {
   "cell_type": "code",
   "execution_count": null,
   "metadata": {},
   "outputs": [],
   "source": [
    "import numpy as np\n",
    "import pandas as pd\n",
    "import matplotlib.pyplot as plt\n",
    "import requests\n",
    "import us\n",
    "from census import Census\n",
    "from us import states\n",
    "#from census_data import \n",
    "\n",
    "# Census API Key\n",
    "from config import api_key\n",
    "api_key\n",
    "c = Census(api_key, year=2013)\n",
    "c1 = Census(api_key,year=2017)"
   ]
  },
  {
   "cell_type": "code",
   "execution_count": null,
   "metadata": {},
   "outputs": [],
   "source": []
  }
 ],
 "metadata": {
  "kernelspec": {
   "display_name": "Python 3",
   "language": "python",
   "name": "python3"
  }
 },
 "nbformat": 4,
 "nbformat_minor": 2
}
