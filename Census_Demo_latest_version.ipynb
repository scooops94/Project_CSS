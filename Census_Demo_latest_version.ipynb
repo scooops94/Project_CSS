{
 "cells": [
  {
   "cell_type": "code",
   "execution_count": 1,
   "metadata": {},
   "outputs": [],
   "source": [
    "#!pip install Census\n",
    "#!pip install us \n",
    "#!pip install plotly==4.1.0\n",
    "\n",
    "# Dependencies\n",
    "import numpy as np\n",
    "import pandas as pd\n",
    "import matplotlib.pyplot as plt\n",
    "import requests\n",
    "import us\n",
    "from census import Census\n",
    "from us import states\n",
    "#from census_data import \n",
    "\n",
    "# Census API Key\n",
    "from config import api_key\n",
    "api_key\n",
    "c = Census(api_key, year=2013)\n",
    "c1 = Census(api_key,year=2017)"
   ]
  },
  {
   "cell_type": "code",
   "execution_count": null,
   "metadata": {},
   "outputs": [],
   "source": []
  },
  {
   "cell_type": "code",
   "execution_count": null,
   "metadata": {},
   "outputs": [],
   "source": []
  },
  {
   "cell_type": "code",
   "execution_count": null,
   "metadata": {},
   "outputs": [],
   "source": []
  },
  {
   "cell_type": "code",
   "execution_count": 10,
   "metadata": {},
   "outputs": [],
   "source": [
    "male_data=c1.acs1.get('B01003_001E', {'for': 'state:*'})\n",
    "m_pd = pd.DataFrame(male_data)\n",
    "m_pd = m_pd.rename(columns={\"B01003_001E\": \"Population\", \n",
    "                                       \"state\": \"State Code\"})\n",
    "m_pd = m_pd[[\"State Code\",\"Population\"]]\n",
    "m_pd=m_pd.fillna(0)\n",
    "m_pd.head()\n",
    "m_pd.to_csv(\"US_Population.csv\", encoding=\"utf-8\", index=False)"
   ]
  },
  {
   "cell_type": "code",
   "execution_count": null,
   "metadata": {},
   "outputs": [],
   "source": []
  },
  {
   "cell_type": "code",
   "execution_count": 11,
   "metadata": {},
   "outputs": [
    {
     "data": {
      "text/html": [
       "<div>\n",
       "<style scoped>\n",
       "    .dataframe tbody tr th:only-of-type {\n",
       "        vertical-align: middle;\n",
       "    }\n",
       "\n",
       "    .dataframe tbody tr th {\n",
       "        vertical-align: top;\n",
       "    }\n",
       "\n",
       "    .dataframe thead th {\n",
       "        text-align: right;\n",
       "    }\n",
       "</style>\n",
       "<table border=\"1\" class=\"dataframe\">\n",
       "  <thead>\n",
       "    <tr style=\"text-align: right;\">\n",
       "      <th></th>\n",
       "      <th>State Code</th>\n",
       "      <th>Female</th>\n",
       "    </tr>\n",
       "  </thead>\n",
       "  <tbody>\n",
       "    <tr>\n",
       "      <th>0</th>\n",
       "      <td>01</td>\n",
       "      <td>123251.0</td>\n",
       "    </tr>\n",
       "    <tr>\n",
       "      <th>1</th>\n",
       "      <td>02</td>\n",
       "      <td>21991.0</td>\n",
       "    </tr>\n",
       "    <tr>\n",
       "      <th>2</th>\n",
       "      <td>04</td>\n",
       "      <td>221393.0</td>\n",
       "    </tr>\n",
       "    <tr>\n",
       "      <th>3</th>\n",
       "      <td>05</td>\n",
       "      <td>72013.0</td>\n",
       "    </tr>\n",
       "    <tr>\n",
       "      <th>4</th>\n",
       "      <td>06</td>\n",
       "      <td>1348070.0</td>\n",
       "    </tr>\n",
       "  </tbody>\n",
       "</table>\n",
       "</div>"
      ],
      "text/plain": [
       "  State Code     Female\n",
       "0         01   123251.0\n",
       "1         02    21991.0\n",
       "2         04   221393.0\n",
       "3         05    72013.0\n",
       "4         06  1348070.0"
      ]
     },
     "execution_count": 11,
     "metadata": {},
     "output_type": "execute_result"
    }
   ],
   "source": [
    "female_data=c1.acs1.get('B24010_155E', {'for': 'state:*'})\n",
    "f_pd = pd.DataFrame(female_data)\n",
    "f_pd = f_pd.rename(columns={\"B24010_155E\": \"Female\", \n",
    "                                       \"state\": \"State Code\"})\n",
    "f_pd = f_pd[[\"State Code\",\"Female\"]]\n",
    "f_pd.head()"
   ]
  },
  {
   "cell_type": "code",
   "execution_count": 12,
   "metadata": {},
   "outputs": [
    {
     "data": {
      "text/plain": [
       "'AL'"
      ]
     },
     "execution_count": 12,
     "metadata": {},
     "output_type": "execute_result"
    }
   ],
   "source": [
    "us.states.mapping('fips', 'abbr')['01']"
   ]
  },
  {
   "cell_type": "code",
   "execution_count": null,
   "metadata": {},
   "outputs": [],
   "source": []
  },
  {
   "cell_type": "code",
   "execution_count": 13,
   "metadata": {},
   "outputs": [],
   "source": [
    "def func_merge_df(df1, df2, column):\n",
    "    mf_df = pd.merge(df1, df2, on=column, how='inner')\n",
    "    return mf_df\n",
    "\n",
    "def func_getdata(key1, key2, jobtype):\n",
    "    male_data= []\n",
    "    female_data = []\n",
    "    state_dict = us.states.mapping('fips', 'name')\n",
    "    \n",
    "    male_data=c1.acs1.get(key1, {'for': 'state:*'})\n",
    "    female_data=c1.acs1.get(key2, {'for': 'state:*'})\n",
    "    m_pd = pd.DataFrame(male_data)\n",
    "    f_pd = pd.DataFrame(female_data)\n",
    "    # Merge the dataframe\n",
    "    mf_df = func_merge_df(df1=f_pd, df2=m_pd, column='state')\n",
    "    mf_df=mf_df.fillna(0)\n",
    "    # Get the total \n",
    "    mf_df[\"State Name\"] = ''\n",
    "    mf_df[\"Type\"] = ''\n",
    "    # Get the State name\n",
    "    for index, row in mf_df.iterrows():\n",
    "        mf_df.loc[index,'State Name'] = state_dict[mf_df.loc[index,'state']]\n",
    "        mf_df.loc[index,'Type'] = jobtype\n",
    "    return mf_df\n",
    "\n",
    "   \n",
    "#rs_data = func_getdata(key1 = 'B24040_007E', key2 = 'B24040_111E', jobtype = 'Manufacturing')\n",
    "#rs_data = rs_data.rename(columns={\"B24040_007E\": \"Male\",\"B24040_111E\":\"Female\",\"state\": \"State Code\"})\n",
    "#rs_data[\"Total\"] = rs_data[\"Male\"].astype(int) + rs_data[\"Female\"].astype(int)\n",
    "#rs_data = rs_data[[\"State Code\", \"State Name\", \"Type\",\"Male\", \"Female\",\"Total\"]]\n",
    "#rs_data.sort_values('Total', ascending=False).head() \n",
    "#rs_data"
   ]
  },
  {
   "cell_type": "code",
   "execution_count": 7,
   "metadata": {},
   "outputs": [
    {
     "name": "stdout",
     "output_type": "stream",
     "text": [
      "Job Completed\n"
     ]
    }
   ],
   "source": [
    "cnt = 0\n",
    "input_data=[{'Male':'B24040_007E','Female':'B24040_111E','jobtype':'Manufacturing'},\n",
    "           {'Male':'B24010_019E','Female':'B24010_170E','jobtype':'IT'},\n",
    "           {'Male':'B24010_037E','Female':'B24010_188E','jobtype':'Social Workers'},\n",
    "           {'Male':'B24010_017E','Female':'B24010_168E','jobtype':'Finance'}\n",
    "          ]\n",
    "input_df = pd.DataFrame(input_data)\n",
    "\n",
    "for index, row in input_df.iterrows(): \n",
    "    filter_df = input_df[input_df['jobtype']==input_df.loc[index,'jobtype']]\n",
    "    key1_val = ','.join(str(v) for v in filter_df['Male'])\n",
    "    key2_val = ','.join(str(v) for v in filter_df['Female'])\n",
    "    jobtypeVal = ','.join(str(v) for v in filter_df['jobtype'])\n",
    " \n",
    "    rs_data = func_getdata(key1 = key1_val, key2 = key2_val, jobtype = jobtypeVal)\n",
    "    rs_data\n",
    "    rs_data = rs_data.rename(columns={key1_val: \"Male\",key2_val:\"Female\",\"state\": \"State Code\"})\n",
    "    rs_data[\"Total\"] = rs_data[\"Male\"].astype(int) + rs_data[\"Female\"].astype(int)\n",
    "    rs_data = rs_data[[\"State Code\", \"State Name\", \"Type\",\"Male\", \"Female\",\"Total\"]]\n",
    "    rs_data.sort_values('Total', ascending=False).head() \n",
    "    if cnt !=0:\n",
    "        cnt = cnt+1\n",
    "\n",
    "# First time for the header\n",
    "    if cnt == 0:\n",
    "        rs_data.to_csv(\"job_census_data_3.csv\", encoding=\"utf-8\", index=False)\n",
    "        cnt = cnt + 1 \n",
    "\n",
    "    if cnt > 1:\n",
    "        with open('job_census_data_3.csv', 'a') as f:\n",
    "            rs_data.to_csv(f, header=False, index=False)\n",
    "\n",
    "print(\"Job Completed\")"
   ]
  },
  {
   "cell_type": "code",
   "execution_count": null,
   "metadata": {},
   "outputs": [],
   "source": []
  },
  {
   "cell_type": "code",
   "execution_count": 14,
   "metadata": {},
   "outputs": [
    {
     "data": {
      "text/html": [
       "<div>\n",
       "<style scoped>\n",
       "    .dataframe tbody tr th:only-of-type {\n",
       "        vertical-align: middle;\n",
       "    }\n",
       "\n",
       "    .dataframe tbody tr th {\n",
       "        vertical-align: top;\n",
       "    }\n",
       "\n",
       "    .dataframe thead th {\n",
       "        text-align: right;\n",
       "    }\n",
       "</style>\n",
       "<table border=\"1\" class=\"dataframe\">\n",
       "  <thead>\n",
       "    <tr style=\"text-align: right;\">\n",
       "      <th></th>\n",
       "      <th>State Code</th>\n",
       "      <th>State Name</th>\n",
       "      <th>Type</th>\n",
       "      <th>Male</th>\n",
       "      <th>Female</th>\n",
       "      <th>Total</th>\n",
       "    </tr>\n",
       "  </thead>\n",
       "  <tbody>\n",
       "    <tr>\n",
       "      <th>4</th>\n",
       "      <td>06</td>\n",
       "      <td>California</td>\n",
       "      <td>Social Workers</td>\n",
       "      <td>66326.0</td>\n",
       "      <td>185081.0</td>\n",
       "      <td>251407</td>\n",
       "    </tr>\n",
       "    <tr>\n",
       "      <th>32</th>\n",
       "      <td>36</td>\n",
       "      <td>New York</td>\n",
       "      <td>Social Workers</td>\n",
       "      <td>45515.0</td>\n",
       "      <td>137849.0</td>\n",
       "      <td>183364</td>\n",
       "    </tr>\n",
       "    <tr>\n",
       "      <th>43</th>\n",
       "      <td>48</td>\n",
       "      <td>Texas</td>\n",
       "      <td>Social Workers</td>\n",
       "      <td>28644.0</td>\n",
       "      <td>105919.0</td>\n",
       "      <td>134563</td>\n",
       "    </tr>\n",
       "    <tr>\n",
       "      <th>38</th>\n",
       "      <td>42</td>\n",
       "      <td>Pennsylvania</td>\n",
       "      <td>Social Workers</td>\n",
       "      <td>29250.0</td>\n",
       "      <td>74910.0</td>\n",
       "      <td>104160</td>\n",
       "    </tr>\n",
       "    <tr>\n",
       "      <th>9</th>\n",
       "      <td>12</td>\n",
       "      <td>Florida</td>\n",
       "      <td>Social Workers</td>\n",
       "      <td>23239.0</td>\n",
       "      <td>76424.0</td>\n",
       "      <td>99663</td>\n",
       "    </tr>\n",
       "  </tbody>\n",
       "</table>\n",
       "</div>"
      ],
      "text/plain": [
       "   State Code    State Name            Type     Male    Female   Total\n",
       "4          06    California  Social Workers  66326.0  185081.0  251407\n",
       "32         36      New York  Social Workers  45515.0  137849.0  183364\n",
       "43         48         Texas  Social Workers  28644.0  105919.0  134563\n",
       "38         42  Pennsylvania  Social Workers  29250.0   74910.0  104160\n",
       "9          12       Florida  Social Workers  23239.0   76424.0   99663"
      ]
     },
     "execution_count": 14,
     "metadata": {},
     "output_type": "execute_result"
    }
   ],
   "source": [
    "#top states.\n",
    "cnt = 0\n",
    "\n",
    "input_data=[{'Male':'B24010_037E','Female':'B24010_188E','jobtype':'Social Workers'}]\n",
    "#input_data=[{'Male':'B24010_017E','Female':'B24010_168E','jobtype':'Finance'}]\n",
    "input_df = pd.DataFrame(input_data)\n",
    "\n",
    "for index, row in input_df.iterrows(): \n",
    "    filter_df = input_df[input_df['jobtype']==input_df.loc[index,'jobtype']]\n",
    "    key1_val = ','.join(str(v) for v in filter_df['Male'])\n",
    "    key2_val = ','.join(str(v) for v in filter_df['Female'])\n",
    "    jobtypeVal = ','.join(str(v) for v in filter_df['jobtype'])\n",
    " \n",
    "    rs_data = func_getdata(key1 = key1_val, key2 = key2_val, jobtype = jobtypeVal)\n",
    "    rs_data\n",
    "    rs_data = rs_data.rename(columns={key1_val: \"Male\",key2_val:\"Female\",\"state\": \"State Code\"})\n",
    "    rs_data[\"Total\"] = rs_data[\"Male\"].astype(int) + rs_data[\"Female\"].astype(int)\n",
    "    rs_data = rs_data[[\"State Code\", \"State Name\", \"Type\",\"Male\", \"Female\",\"Total\"]]\n",
    "    final_df = rs_data.sort_values('Total', ascending=False).head() \n",
    "    \n",
    "final_df"
   ]
  },
  {
   "cell_type": "code",
   "execution_count": 4,
   "metadata": {},
   "outputs": [
    {
     "name": "stdout",
     "output_type": "stream",
     "text": [
      "Job Completed\n"
     ]
    }
   ],
   "source": [
    "# Social Workers\n",
    "cnt = 1\n",
    "input_data=[{'Male':'B24010_066E','Female':'B24010_217E','jobtype':'Psychiatric'},\n",
    "           {'Male':'B24010_038E','Female':'B24010_189E','jobtype':'Religious'},\n",
    "           {'Male':'B24010_037EA','Female':'B24010_188E','jobtype':'Counsolers'},\n",
    "           {'Male':'B24010_091E','Female':'B24010_242E','jobtype':'Child Care'}\n",
    "          ]\n",
    "input_df = pd.DataFrame(input_data)\n",
    "input_df\n",
    "for index, row in input_df.iterrows(): \n",
    "    filter_df = input_df[input_df['jobtype']==input_df.loc[index,'jobtype']]\n",
    "    key1_val = ','.join(str(v) for v in filter_df['Male'])\n",
    "    key2_val = ','.join(str(v) for v in filter_df['Female'])\n",
    "    jobtypeVal = ','.join(str(v) for v in filter_df['jobtype'])\n",
    " \n",
    "    rs_data = func_getdata(key1 = key1_val, key2 = key2_val, jobtype = jobtypeVal)\n",
    "    rs_data\n",
    "    rs_data = rs_data.rename(columns={key1_val: \"Male\",key2_val:\"Female\",\"state\": \"State Code\"})\n",
    "    rs_data[\"Total\"] = rs_data[\"Male\"].astype(int) + rs_data[\"Female\"].astype(int)\n",
    "    rs_data = rs_data[[\"State Code\", \"State Name\", \"Type\",\"Male\", \"Female\",\"Total\"]]\n",
    "    rs_data.sort_values('Total', ascending=False).head() \n",
    "\n",
    "# First time for the header\n",
    "    if cnt == 1:\n",
    "        rs_data.to_csv(\"job_SocialWorker_data.csv\", encoding=\"utf-8\", index=False)\n",
    "        cnt = cnt + 1\n",
    "\n",
    "    if cnt > 1:\n",
    "        with open('job_SocialWorker_data.csv', 'a') as f:\n",
    "            rs_data.to_csv(f, header=False, index=False)\n",
    "\n",
    "print(\"Job Completed\")"
   ]
  },
  {
   "cell_type": "code",
   "execution_count": 5,
   "metadata": {},
   "outputs": [
    {
     "data": {
      "text/html": [
       "<div>\n",
       "<style scoped>\n",
       "    .dataframe tbody tr th:only-of-type {\n",
       "        vertical-align: middle;\n",
       "    }\n",
       "\n",
       "    .dataframe tbody tr th {\n",
       "        vertical-align: top;\n",
       "    }\n",
       "\n",
       "    .dataframe thead th {\n",
       "        text-align: right;\n",
       "    }\n",
       "</style>\n",
       "<table border=\"1\" class=\"dataframe\">\n",
       "  <thead>\n",
       "    <tr style=\"text-align: right;\">\n",
       "      <th></th>\n",
       "      <th>State Code</th>\n",
       "      <th>State Name</th>\n",
       "      <th>Type</th>\n",
       "      <th>Male</th>\n",
       "      <th>Female</th>\n",
       "      <th>Total</th>\n",
       "    </tr>\n",
       "  </thead>\n",
       "  <tbody>\n",
       "    <tr>\n",
       "      <th>4</th>\n",
       "      <td>06</td>\n",
       "      <td>California</td>\n",
       "      <td>Child Care</td>\n",
       "      <td>14948.0</td>\n",
       "      <td>153040.0</td>\n",
       "      <td>167988</td>\n",
       "    </tr>\n",
       "    <tr>\n",
       "      <th>32</th>\n",
       "      <td>36</td>\n",
       "      <td>New York</td>\n",
       "      <td>Child Care</td>\n",
       "      <td>6629.0</td>\n",
       "      <td>107009.0</td>\n",
       "      <td>113638</td>\n",
       "    </tr>\n",
       "    <tr>\n",
       "      <th>43</th>\n",
       "      <td>48</td>\n",
       "      <td>Texas</td>\n",
       "      <td>Child Care</td>\n",
       "      <td>7149.0</td>\n",
       "      <td>98652.0</td>\n",
       "      <td>105801</td>\n",
       "    </tr>\n",
       "    <tr>\n",
       "      <th>13</th>\n",
       "      <td>17</td>\n",
       "      <td>Illinois</td>\n",
       "      <td>Child Care</td>\n",
       "      <td>2778.0</td>\n",
       "      <td>54157.0</td>\n",
       "      <td>56935</td>\n",
       "    </tr>\n",
       "    <tr>\n",
       "      <th>9</th>\n",
       "      <td>12</td>\n",
       "      <td>Florida</td>\n",
       "      <td>Child Care</td>\n",
       "      <td>3887.0</td>\n",
       "      <td>49141.0</td>\n",
       "      <td>53028</td>\n",
       "    </tr>\n",
       "  </tbody>\n",
       "</table>\n",
       "</div>"
      ],
      "text/plain": [
       "   State Code  State Name        Type     Male    Female   Total\n",
       "4          06  California  Child Care  14948.0  153040.0  167988\n",
       "32         36    New York  Child Care   6629.0  107009.0  113638\n",
       "43         48       Texas  Child Care   7149.0   98652.0  105801\n",
       "13         17    Illinois  Child Care   2778.0   54157.0   56935\n",
       "9          12     Florida  Child Care   3887.0   49141.0   53028"
      ]
     },
     "execution_count": 5,
     "metadata": {},
     "output_type": "execute_result"
    }
   ],
   "source": [
    "# Social Workers\n",
    "cnt = 1\n",
    "input_data=[{'Male':'B24010_066E','Female':'B24010_217E','jobtype':'Psychiatric'},\n",
    "           {'Male':'B24010_038E','Female':'B24010_189E','jobtype':'Religious'},\n",
    "           {'Male':'B24010_037EA','Female':'B24010_188E','jobtype':'Counsolers'},\n",
    "           {'Male':'B24010_091E','Female':'B24010_242E','jobtype':'Child Care'}\n",
    "          ]\n",
    "input_df = pd.DataFrame(input_data)\n",
    "input_df\n",
    "for index, row in input_df.iterrows(): \n",
    "    filter_df = input_df[input_df['jobtype']==input_df.loc[index,'jobtype']]\n",
    "    key1_val = ','.join(str(v) for v in filter_df['Male'])\n",
    "    key2_val = ','.join(str(v) for v in filter_df['Female'])\n",
    "    jobtypeVal = ','.join(str(v) for v in filter_df['jobtype'])\n",
    " \n",
    "    rs_data = func_getdata(key1 = key1_val, key2 = key2_val, jobtype = jobtypeVal)\n",
    "    rs_data\n",
    "    rs_data = rs_data.rename(columns={key1_val: \"Male\",key2_val:\"Female\",\"state\": \"State Code\"})\n",
    "    rs_data[\"Total\"] = rs_data[\"Male\"].astype(int) + rs_data[\"Female\"].astype(int)\n",
    "    rs_data = rs_data[[\"State Code\", \"State Name\", \"Type\",\"Male\", \"Female\",\"Total\"]]\n",
    "    \n",
    "rs_data.sort_values('Total', ascending=False).head() "
   ]
  },
  {
   "cell_type": "code",
   "execution_count": 9,
   "metadata": {},
   "outputs": [
    {
     "data": {
      "text/html": [
       "<div>\n",
       "<style scoped>\n",
       "    .dataframe tbody tr th:only-of-type {\n",
       "        vertical-align: middle;\n",
       "    }\n",
       "\n",
       "    .dataframe tbody tr th {\n",
       "        vertical-align: top;\n",
       "    }\n",
       "\n",
       "    .dataframe thead th {\n",
       "        text-align: right;\n",
       "    }\n",
       "</style>\n",
       "<table border=\"1\" class=\"dataframe\">\n",
       "  <thead>\n",
       "    <tr style=\"text-align: right;\">\n",
       "      <th></th>\n",
       "      <th>State Code</th>\n",
       "      <th>Female</th>\n",
       "    </tr>\n",
       "  </thead>\n",
       "  <tbody>\n",
       "    <tr>\n",
       "      <th>0</th>\n",
       "      <td>01</td>\n",
       "      <td>3609.0</td>\n",
       "    </tr>\n",
       "    <tr>\n",
       "      <th>1</th>\n",
       "      <td>02</td>\n",
       "      <td>551.0</td>\n",
       "    </tr>\n",
       "    <tr>\n",
       "      <th>2</th>\n",
       "      <td>04</td>\n",
       "      <td>3209.0</td>\n",
       "    </tr>\n",
       "    <tr>\n",
       "      <th>3</th>\n",
       "      <td>05</td>\n",
       "      <td>1972.0</td>\n",
       "    </tr>\n",
       "    <tr>\n",
       "      <th>4</th>\n",
       "      <td>06</td>\n",
       "      <td>20834.0</td>\n",
       "    </tr>\n",
       "  </tbody>\n",
       "</table>\n",
       "</div>"
      ],
      "text/plain": [
       "  State Code   Female\n",
       "0         01   3609.0\n",
       "1         02    551.0\n",
       "2         04   3209.0\n",
       "3         05   1972.0\n",
       "4         06  20834.0"
      ]
     },
     "execution_count": 9,
     "metadata": {},
     "output_type": "execute_result"
    }
   ],
   "source": [
    "female_data=c1.acs1.get('B24010_189E', {'for': 'state:*'})\n",
    "f_pd = pd.DataFrame(female_data)\n",
    "f_pd = f_pd.rename(columns={\"B24010_189E\": \"Female\", \n",
    "                                       \"state\": \"State Code\"})\n",
    "f_pd = f_pd[[\"State Code\",\"Female\"]]\n",
    "f_pd.head()"
   ]
  },
  {
   "cell_type": "code",
   "execution_count": 11,
   "metadata": {},
   "outputs": [
    {
     "name": "stdout",
     "output_type": "stream",
     "text": [
      "Job Completed\n"
     ]
    }
   ],
   "source": [
    "# Finance\n",
    "cnt = 1\n",
    "input_data=[{'Male':'B24010_105E','Female':'B24010_256E','jobtype':'Audit Clerk'},\n",
    "           {'Male':'B24010_016E','Female':'B24010_167E','jobtype':'Specialist'},\n",
    "           {'Male':'B24010_008E','Female':'B24010_159E','jobtype':'Finance Manager'},\n",
    "           {'Male':'B24010_017E','Female':'B24010_168E','jobtype':'Accountants'}\n",
    "          ]\n",
    "input_df = pd.DataFrame(input_data)\n",
    "input_df\n",
    "for index, row in input_df.iterrows(): \n",
    "    filter_df = input_df[input_df['jobtype']==input_df.loc[index,'jobtype']]\n",
    "    key1_val = ','.join(str(v) for v in filter_df['Male'])\n",
    "    key2_val = ','.join(str(v) for v in filter_df['Female'])\n",
    "    jobtypeVal = ','.join(str(v) for v in filter_df['jobtype'])\n",
    " \n",
    "    rs_data = func_getdata(key1 = key1_val, key2 = key2_val, jobtype = jobtypeVal)\n",
    "    rs_data\n",
    "    rs_data = rs_data.rename(columns={key1_val: \"Male\",key2_val:\"Female\",\"state\": \"State Code\"})\n",
    "    rs_data[\"Total\"] = rs_data[\"Male\"].astype(int) + rs_data[\"Female\"].astype(int)\n",
    "    rs_data = rs_data[[\"State Code\", \"State Name\", \"Type\",\"Male\", \"Female\",\"Total\"]]\n",
    "    rs_data.sort_values('Total', ascending=False).head() \n",
    "\n",
    "# First time for the header\n",
    "    if cnt == 1:\n",
    "        rs_data.to_csv(\"job_Finance_data.csv\", encoding=\"utf-8\", index=False)\n",
    "        cnt = cnt + 1\n",
    "\n",
    "    if cnt > 1:\n",
    "        with open('job_Finance_data.csv', 'a') as f:\n",
    "            rs_data.to_csv(f, header=False, index=False)\n",
    "\n",
    "print(\"Job Completed\")"
   ]
  },
  {
   "cell_type": "code",
   "execution_count": 4,
   "metadata": {},
   "outputs": [
    {
     "data": {
      "text/html": [
       "<div>\n",
       "<style scoped>\n",
       "    .dataframe tbody tr th:only-of-type {\n",
       "        vertical-align: middle;\n",
       "    }\n",
       "\n",
       "    .dataframe tbody tr th {\n",
       "        vertical-align: top;\n",
       "    }\n",
       "\n",
       "    .dataframe thead th {\n",
       "        text-align: right;\n",
       "    }\n",
       "</style>\n",
       "<table border=\"1\" class=\"dataframe\">\n",
       "  <thead>\n",
       "    <tr style=\"text-align: right;\">\n",
       "      <th></th>\n",
       "      <th>State Code</th>\n",
       "      <th>State Name</th>\n",
       "      <th>Type</th>\n",
       "      <th>Male</th>\n",
       "      <th>Female</th>\n",
       "      <th>Total</th>\n",
       "    </tr>\n",
       "  </thead>\n",
       "  <tbody>\n",
       "    <tr>\n",
       "      <th>4</th>\n",
       "      <td>06</td>\n",
       "      <td>California</td>\n",
       "      <td>Audit Clerk</td>\n",
       "      <td>26429.0</td>\n",
       "      <td>109060.0</td>\n",
       "      <td>135489</td>\n",
       "    </tr>\n",
       "  </tbody>\n",
       "</table>\n",
       "</div>"
      ],
      "text/plain": [
       "  State Code  State Name         Type     Male    Female   Total\n",
       "4         06  California  Audit Clerk  26429.0  109060.0  135489"
      ]
     },
     "execution_count": 4,
     "metadata": {},
     "output_type": "execute_result"
    }
   ],
   "source": [
    "# Finance\n",
    "cnt = 1\n",
    "input_data=[{'Male':'B24010_105E','Female':'B24010_256E','jobtype':'Audit Clerk'},\n",
    "           {'Male':'B24010_016E','Female':'B24010_167E','jobtype':'Specialist'},\n",
    "           {'Male':'B24010_008E','Female':'B24010_159E','jobtype':'Finance Manager'},\n",
    "           {'Male':'B24010_017E','Female':'B24010_168E','jobtype':'Accountants'}\n",
    "          ]\n",
    " \n",
    "key1_val = 'B24010_105E'\n",
    "key2_val = 'B24010_256E'\n",
    "jobtypeVal = 'Audit Clerk'\n",
    "\n",
    "rs_data = func_getdata(key1 = key1_val, key2 = key2_val, jobtype = jobtypeVal)\n",
    "rs_data\n",
    "rs_data = rs_data.rename(columns={key1_val: \"Male\",key2_val:\"Female\",\"state\": \"State Code\"})\n",
    "rs_data[\"Total\"] = rs_data[\"Male\"].astype(int) + rs_data[\"Female\"].astype(int)\n",
    "rs_data = rs_data[[\"State Code\", \"State Name\", \"Type\",\"Male\", \"Female\",\"Total\"]]\n",
    "#rs_data.sort_values('Total', ascending=False).head() \n",
    "filter_df = rs_data[rs_data['State Name']=='California']\n",
    "filter_df"
   ]
  },
  {
   "cell_type": "code",
   "execution_count": 7,
   "metadata": {},
   "outputs": [
    {
     "data": {
      "text/html": [
       "<div>\n",
       "<style scoped>\n",
       "    .dataframe tbody tr th:only-of-type {\n",
       "        vertical-align: middle;\n",
       "    }\n",
       "\n",
       "    .dataframe tbody tr th {\n",
       "        vertical-align: top;\n",
       "    }\n",
       "\n",
       "    .dataframe thead th {\n",
       "        text-align: right;\n",
       "    }\n",
       "</style>\n",
       "<table border=\"1\" class=\"dataframe\">\n",
       "  <thead>\n",
       "    <tr style=\"text-align: right;\">\n",
       "      <th></th>\n",
       "      <th>State Code</th>\n",
       "      <th>State Name</th>\n",
       "      <th>Type</th>\n",
       "      <th>Male</th>\n",
       "      <th>Female</th>\n",
       "      <th>Total</th>\n",
       "    </tr>\n",
       "  </thead>\n",
       "  <tbody>\n",
       "    <tr>\n",
       "      <th>4</th>\n",
       "      <td>06</td>\n",
       "      <td>California</td>\n",
       "      <td>Social Workers</td>\n",
       "      <td>66326.0</td>\n",
       "      <td>185081.0</td>\n",
       "      <td>251407</td>\n",
       "    </tr>\n",
       "    <tr>\n",
       "      <th>32</th>\n",
       "      <td>36</td>\n",
       "      <td>New York</td>\n",
       "      <td>Social Workers</td>\n",
       "      <td>45515.0</td>\n",
       "      <td>137849.0</td>\n",
       "      <td>183364</td>\n",
       "    </tr>\n",
       "    <tr>\n",
       "      <th>43</th>\n",
       "      <td>48</td>\n",
       "      <td>Texas</td>\n",
       "      <td>Social Workers</td>\n",
       "      <td>28644.0</td>\n",
       "      <td>105919.0</td>\n",
       "      <td>134563</td>\n",
       "    </tr>\n",
       "    <tr>\n",
       "      <th>38</th>\n",
       "      <td>42</td>\n",
       "      <td>Pennsylvania</td>\n",
       "      <td>Social Workers</td>\n",
       "      <td>29250.0</td>\n",
       "      <td>74910.0</td>\n",
       "      <td>104160</td>\n",
       "    </tr>\n",
       "    <tr>\n",
       "      <th>9</th>\n",
       "      <td>12</td>\n",
       "      <td>Florida</td>\n",
       "      <td>Social Workers</td>\n",
       "      <td>23239.0</td>\n",
       "      <td>76424.0</td>\n",
       "      <td>99663</td>\n",
       "    </tr>\n",
       "  </tbody>\n",
       "</table>\n",
       "</div>"
      ],
      "text/plain": [
       "   State Code    State Name            Type     Male    Female   Total\n",
       "4          06    California  Social Workers  66326.0  185081.0  251407\n",
       "32         36      New York  Social Workers  45515.0  137849.0  183364\n",
       "43         48         Texas  Social Workers  28644.0  105919.0  134563\n",
       "38         42  Pennsylvania  Social Workers  29250.0   74910.0  104160\n",
       "9          12       Florida  Social Workers  23239.0   76424.0   99663"
      ]
     },
     "execution_count": 7,
     "metadata": {},
     "output_type": "execute_result"
    }
   ],
   "source": [
    "#top states\n",
    "cnt = 0\n",
    "input_data=[{'Male':'B24010_037E','Female':'B24010_188E','jobtype':'Social Workers'}]\n",
    "#input_data=[{'Male':'B24010_017E','Female':'B24010_168E','jobtype':'Finance'}]\n",
    "input_df = pd.DataFrame(input_data)\n",
    "for index, row in input_df.iterrows():\n",
    "   filter_df = input_df[input_df['jobtype']==input_df.loc[index,'jobtype']]\n",
    "   key1_val = ','.join(str(v) for v in filter_df['Male'])\n",
    "   key2_val = ','.join(str(v) for v in filter_df['Female'])\n",
    "   jobtypeVal = ','.join(str(v) for v in filter_df['jobtype'])\n",
    "   rs_data = func_getdata(key1 = key1_val, key2 = key2_val, jobtype = jobtypeVal)\n",
    "   rs_data\n",
    "   rs_data = rs_data.rename(columns={key1_val: \"Male\",key2_val:\"Female\",\"state\": \"State Code\"})\n",
    "   rs_data[\"Total\"] = rs_data[\"Male\"].astype(int) + rs_data[\"Female\"].astype(int)\n",
    "   rs_data = rs_data[[\"State Code\", \"State Name\", \"Type\",\"Male\", \"Female\",\"Total\"]]\n",
    "   final_df = rs_data.sort_values('Total', ascending=False).head()\n",
    "final_df"
   ]
  },
  {
   "cell_type": "code",
   "execution_count": 14,
   "metadata": {},
   "outputs": [
    {
     "data": {
      "text/html": [
       "<div>\n",
       "<style scoped>\n",
       "    .dataframe tbody tr th:only-of-type {\n",
       "        vertical-align: middle;\n",
       "    }\n",
       "\n",
       "    .dataframe tbody tr th {\n",
       "        vertical-align: top;\n",
       "    }\n",
       "\n",
       "    .dataframe thead th {\n",
       "        text-align: right;\n",
       "    }\n",
       "</style>\n",
       "<table border=\"1\" class=\"dataframe\">\n",
       "  <thead>\n",
       "    <tr style=\"text-align: right;\">\n",
       "      <th></th>\n",
       "      <th>State Code</th>\n",
       "      <th>State Name</th>\n",
       "      <th>Type</th>\n",
       "      <th>Male</th>\n",
       "      <th>Female</th>\n",
       "      <th>Total</th>\n",
       "    </tr>\n",
       "  </thead>\n",
       "  <tbody>\n",
       "    <tr>\n",
       "      <th>4</th>\n",
       "      <td>06</td>\n",
       "      <td>California</td>\n",
       "      <td>Manufacturing</td>\n",
       "      <td>1020705.0</td>\n",
       "      <td>421201.0</td>\n",
       "      <td>1441906</td>\n",
       "    </tr>\n",
       "    <tr>\n",
       "      <th>43</th>\n",
       "      <td>48</td>\n",
       "      <td>Texas</td>\n",
       "      <td>Manufacturing</td>\n",
       "      <td>730346.0</td>\n",
       "      <td>242316.0</td>\n",
       "      <td>972662</td>\n",
       "    </tr>\n",
       "    <tr>\n",
       "      <th>22</th>\n",
       "      <td>26</td>\n",
       "      <td>Michigan</td>\n",
       "      <td>Manufacturing</td>\n",
       "      <td>570745.0</td>\n",
       "      <td>191694.0</td>\n",
       "      <td>762439</td>\n",
       "    </tr>\n",
       "    <tr>\n",
       "      <th>35</th>\n",
       "      <td>39</td>\n",
       "      <td>Ohio</td>\n",
       "      <td>Manufacturing</td>\n",
       "      <td>543443.0</td>\n",
       "      <td>187144.0</td>\n",
       "      <td>730587</td>\n",
       "    </tr>\n",
       "    <tr>\n",
       "      <th>13</th>\n",
       "      <td>17</td>\n",
       "      <td>Illinois</td>\n",
       "      <td>Manufacturing</td>\n",
       "      <td>463010.0</td>\n",
       "      <td>187851.0</td>\n",
       "      <td>650861</td>\n",
       "    </tr>\n",
       "  </tbody>\n",
       "</table>\n",
       "</div>"
      ],
      "text/plain": [
       "   State Code  State Name           Type       Male    Female    Total\n",
       "4          06  California  Manufacturing  1020705.0  421201.0  1441906\n",
       "43         48       Texas  Manufacturing   730346.0  242316.0   972662\n",
       "22         26    Michigan  Manufacturing   570745.0  191694.0   762439\n",
       "35         39        Ohio  Manufacturing   543443.0  187144.0   730587\n",
       "13         17    Illinois  Manufacturing   463010.0  187851.0   650861"
      ]
     },
     "execution_count": 14,
     "metadata": {},
     "output_type": "execute_result"
    }
   ],
   "source": [
    "#get the top 5 across all the category\n",
    "cnt = 0\n",
    "input_data=[{'Male':'B24040_007E','Female':'B24040_111E','jobtype':'Manufacturing'},\n",
    "           {'Male':'B24010_019E','Female':'B24010_155E','jobtype':'IT'},\n",
    "           {'Male':'B24010_037E','Female':'B24010_188E','jobtype':'Social Workers'},\n",
    "           {'Male':'B24010_017E','Female':'B24010_168E','jobtype':'Finance'}\n",
    "          ]\n",
    "input_df = pd.DataFrame(input_data)\n",
    "\n",
    "for index, row in input_df.iterrows(): \n",
    "    filter_df = input_df[input_df['jobtype']==input_df.loc[index,'jobtype']]\n",
    "    key1_val = ','.join(str(v) for v in filter_df['Male'])\n",
    "    key2_val = ','.join(str(v) for v in filter_df['Female'])\n",
    "    jobtypeVal = ','.join(str(v) for v in filter_df['jobtype'])\n",
    " \n",
    "    rs_data = func_getdata(key1 = key1_val, key2 = key2_val, jobtype = jobtypeVal)\n",
    "    rs_data = rs_data.rename(columns={key1_val: \"Male\",key2_val:\"Female\",\"state\": \"State Code\"})\n",
    "    rs_data[\"Total\"] = rs_data[\"Male\"].astype(int) + rs_data[\"Female\"].astype(int)\n",
    "    rs_data = rs_data[[\"State Code\", \"State Name\", \"Type\",\"Male\", \"Female\",\"Total\"]]\n",
    "    if cnt == 0:\n",
    "        final_data = rs_data.sort_values('Total', ascending=False).head()\n",
    "        all_df = rs_data\n",
    "        cnt += 1\n",
    "    else:\n",
    "        final_data = final_data.append(rs_data.sort_values('Total', ascending=False).head())\n",
    "        all_df = all_df.append(rs_data)\n",
    "final_data.head()"
   ]
  },
  {
   "cell_type": "code",
   "execution_count": 48,
   "metadata": {},
   "outputs": [
    {
     "data": {
      "text/plain": [
       "{'AL': 'Alabama',\n",
       " 'AK': 'Alaska',\n",
       " 'AS': 'American Samoa',\n",
       " 'AZ': 'Arizona',\n",
       " 'AR': 'Arkansas',\n",
       " 'CA': 'California',\n",
       " 'CO': 'Colorado',\n",
       " 'CT': 'Connecticut',\n",
       " 'DK': 'Dakota',\n",
       " 'DE': 'Delaware',\n",
       " 'DC': 'District of Columbia',\n",
       " 'FL': 'Florida',\n",
       " 'GA': 'Georgia',\n",
       " 'GU': 'Guam',\n",
       " 'HI': 'Hawaii',\n",
       " 'ID': 'Idaho',\n",
       " 'IL': 'Illinois',\n",
       " 'IN': 'Indiana',\n",
       " 'IA': 'Iowa',\n",
       " 'KS': 'Kansas',\n",
       " 'KY': 'Kentucky',\n",
       " 'LA': 'Louisiana',\n",
       " 'ME': 'Maine',\n",
       " 'MD': 'Maryland',\n",
       " 'MA': 'Massachusetts',\n",
       " 'MI': 'Michigan',\n",
       " 'MN': 'Minnesota',\n",
       " 'MS': 'Mississippi',\n",
       " 'MO': 'Missouri',\n",
       " 'MT': 'Montana',\n",
       " 'NE': 'Nebraska',\n",
       " 'NV': 'Nevada',\n",
       " 'NH': 'New Hampshire',\n",
       " 'NJ': 'New Jersey',\n",
       " 'NM': 'New Mexico',\n",
       " 'NY': 'New York',\n",
       " 'NC': 'North Carolina',\n",
       " 'ND': 'North Dakota',\n",
       " 'MP': 'Northern Mariana Islands',\n",
       " 'OH': 'Ohio',\n",
       " 'OK': 'Oklahoma',\n",
       " 'OR': 'Oregon',\n",
       " 'OL': 'Orleans',\n",
       " 'PA': 'Pennsylvania',\n",
       " 'PI': 'Philippine Islands',\n",
       " 'PR': 'Puerto Rico',\n",
       " 'RI': 'Rhode Island',\n",
       " 'SC': 'South Carolina',\n",
       " 'SD': 'South Dakota',\n",
       " 'TN': 'Tennessee',\n",
       " 'TX': 'Texas',\n",
       " 'UT': 'Utah',\n",
       " 'VT': 'Vermont',\n",
       " 'VI': 'Virgin Islands',\n",
       " 'VA': 'Virginia',\n",
       " 'WA': 'Washington',\n",
       " 'WV': 'West Virginia',\n",
       " 'WI': 'Wisconsin',\n",
       " 'WY': 'Wyoming'}"
      ]
     },
     "execution_count": 48,
     "metadata": {},
     "output_type": "execute_result"
    }
   ],
   "source": [
    "#us.states.mapping('fips', 'abbr')['01']\n",
    "\n",
    "#','.join(str(v) for v in final_data['State Code'])\n",
    "us.states.MD.fips\n",
    "us.states.mapping('fips', 'abbr')[us.states.MD.fips]\n",
    "abbr_dict=us.states.mapping('abbr', 'name')\n",
    "abbr_dict"
   ]
  },
  {
   "cell_type": "code",
   "execution_count": 65,
   "metadata": {},
   "outputs": [
    {
     "name": "stderr",
     "output_type": "stream",
     "text": [
      "/Users/Shiva/anaconda3/envs/PythonData/lib/python3.7/site-packages/ipykernel_launcher.py:28: FutureWarning:\n",
      "\n",
      "set_value is deprecated and will be removed in a future release. Please use .at[] or .iat[] accessors instead\n",
      "\n",
      "/Users/Shiva/anaconda3/envs/PythonData/lib/python3.7/site-packages/ipykernel_launcher.py:29: FutureWarning:\n",
      "\n",
      "set_value is deprecated and will be removed in a future release. Please use .at[] or .iat[] accessors instead\n",
      "\n",
      "/Users/Shiva/anaconda3/envs/PythonData/lib/python3.7/site-packages/ipykernel_launcher.py:30: FutureWarning:\n",
      "\n",
      "set_value is deprecated and will be removed in a future release. Please use .at[] or .iat[] accessors instead\n",
      "\n",
      "/Users/Shiva/anaconda3/envs/PythonData/lib/python3.7/site-packages/ipykernel_launcher.py:31: FutureWarning:\n",
      "\n",
      "set_value is deprecated and will be removed in a future release. Please use .at[] or .iat[] accessors instead\n",
      "\n",
      "/Users/Shiva/anaconda3/envs/PythonData/lib/python3.7/site-packages/ipykernel_launcher.py:33: FutureWarning:\n",
      "\n",
      "set_value is deprecated and will be removed in a future release. Please use .at[] or .iat[] accessors instead\n",
      "\n"
     ]
    },
    {
     "data": {
      "text/html": [
       "<div>\n",
       "<style scoped>\n",
       "    .dataframe tbody tr th:only-of-type {\n",
       "        vertical-align: middle;\n",
       "    }\n",
       "\n",
       "    .dataframe tbody tr th {\n",
       "        vertical-align: top;\n",
       "    }\n",
       "\n",
       "    .dataframe thead th {\n",
       "        text-align: right;\n",
       "    }\n",
       "</style>\n",
       "<table border=\"1\" class=\"dataframe\">\n",
       "  <thead>\n",
       "    <tr style=\"text-align: right;\">\n",
       "      <th></th>\n",
       "      <th>State Name</th>\n",
       "      <th>State Code</th>\n",
       "      <th>Manufacturing</th>\n",
       "      <th>IT</th>\n",
       "      <th>Finance</th>\n",
       "      <th>Social Workers</th>\n",
       "      <th>Total Jobs</th>\n",
       "    </tr>\n",
       "  </thead>\n",
       "  <tbody>\n",
       "    <tr>\n",
       "      <th>0</th>\n",
       "      <td>Alabama</td>\n",
       "      <td>AL</td>\n",
       "      <td>257225.0</td>\n",
       "      <td>195887.0</td>\n",
       "      <td>21917.0</td>\n",
       "      <td>23442.0</td>\n",
       "      <td>498471.0</td>\n",
       "    </tr>\n",
       "    <tr>\n",
       "      <th>1</th>\n",
       "      <td>Alaska</td>\n",
       "      <td>AK</td>\n",
       "      <td>0.0</td>\n",
       "      <td>35739.0</td>\n",
       "      <td>4588.0</td>\n",
       "      <td>7927.0</td>\n",
       "      <td>48254.0</td>\n",
       "    </tr>\n",
       "    <tr>\n",
       "      <th>2</th>\n",
       "      <td>Arizona</td>\n",
       "      <td>AZ</td>\n",
       "      <td>182707.0</td>\n",
       "      <td>351589.0</td>\n",
       "      <td>39870.0</td>\n",
       "      <td>38458.0</td>\n",
       "      <td>612624.0</td>\n",
       "    </tr>\n",
       "    <tr>\n",
       "      <th>3</th>\n",
       "      <td>Arkansas</td>\n",
       "      <td>AR</td>\n",
       "      <td>152729.0</td>\n",
       "      <td>105955.0</td>\n",
       "      <td>11413.0</td>\n",
       "      <td>15991.0</td>\n",
       "      <td>286088.0</td>\n",
       "    </tr>\n",
       "    <tr>\n",
       "      <th>4</th>\n",
       "      <td>California</td>\n",
       "      <td>CA</td>\n",
       "      <td>1441906.0</td>\n",
       "      <td>2270443.0</td>\n",
       "      <td>262401.0</td>\n",
       "      <td>251407.0</td>\n",
       "      <td>4226157.0</td>\n",
       "    </tr>\n",
       "  </tbody>\n",
       "</table>\n",
       "</div>"
      ],
      "text/plain": [
       "   State Name State Code  Manufacturing         IT   Finance  Social Workers  \\\n",
       "0     Alabama         AL       257225.0   195887.0   21917.0         23442.0   \n",
       "1      Alaska         AK            0.0    35739.0    4588.0          7927.0   \n",
       "2     Arizona         AZ       182707.0   351589.0   39870.0         38458.0   \n",
       "3    Arkansas         AR       152729.0   105955.0   11413.0         15991.0   \n",
       "4  California         CA      1441906.0  2270443.0  262401.0        251407.0   \n",
       "\n",
       "   Total Jobs  \n",
       "0    498471.0  \n",
       "1     48254.0  \n",
       "2    612624.0  \n",
       "3    286088.0  \n",
       "4   4226157.0  "
      ]
     },
     "execution_count": 65,
     "metadata": {},
     "output_type": "execute_result"
    }
   ],
   "source": [
    "# get n largest jobs across   \n",
    "#n_df=final_data.nlargest(5, 'Total')\n",
    "#n_df\n",
    "#all_df[['State Name','Type','Total']]\n",
    "#all_df.head()\n",
    "#all_df.loc[all_df['State Name'] == 'California']\n",
    "\n",
    "df = pd.DataFrame([])\n",
    "states_cd = all_df['State Name'].unique()\n",
    "\n",
    "for x in range(len(states_cd)):\n",
    "    #df = df.append({'State Name': states_cd[x]},ignore_index=True)\n",
    "    df.loc[x,'State Name'] = states_cd[x]\n",
    "    # get the two letter abbrevation from the state dictionary \n",
    "    for key,val in abbr_dict.items():\n",
    "        if states_cd[x] == val:\n",
    "            df.loc[x,'State Code'] = key\n",
    "    df.loc[x,'Manufacturing'] = 0\n",
    "    df.loc[x,'IT'] = 0\n",
    "    df.loc[x,'Finance'] = 0\n",
    "    df.loc[x,'Social Workers'] = 0\n",
    "    df.loc[x,'Total Jobs'] = 0\n",
    "    \n",
    "for index, row in df.iterrows():\n",
    "    # df.set_value(i,'ifor',ifor_val) using set_value re-arrange the data\n",
    "    df1=all_df.loc[all_df['State Name'] == df.loc[index,'State Name']]\n",
    "    #df.set_value(index,'State Code',us.states.mapping('fips', 'abbr')[df1.loc[df1['Type'] == 'Manufacturing']['Total']])\n",
    "    df.set_value(index,'Manufacturing',df1.loc[df1['Type'] == 'Manufacturing']['Total'])\n",
    "    df.set_value(index,'IT',df1.loc[df1['Type'] == 'IT']['Total'])\n",
    "    df.set_value(index,'Finance',df1.loc[df1['Type'] == 'Finance']['Total'])\n",
    "    df.set_value(index,'Social Workers',df1.loc[df1['Type'] == 'Social Workers']['Total'])\n",
    "    total_jobs = df1.loc[df1['Type'] == 'Manufacturing']['Total'] + df1.loc[df1['Type'] == 'IT']['Total'] + df1.loc[df1['Type'] == 'Social Workers']['Total'] + df1.loc[df1['Type'] == 'Finance']['Total']\n",
    "    df.set_value(index,'Total Jobs',total_jobs)\n",
    "\n",
    "df.head()"
   ]
  },
  {
   "cell_type": "code",
   "execution_count": 63,
   "metadata": {
    "scrolled": true
   },
   "outputs": [
    {
     "data": {
      "text/html": [
       "        <script type=\"text/javascript\">\n",
       "        window.PlotlyConfig = {MathJaxConfig: 'local'};\n",
       "        if (window.MathJax) {MathJax.Hub.Config({SVG: {font: \"STIX-Web\"}});}\n",
       "        if (typeof require !== 'undefined') {\n",
       "        require.undef(\"plotly\");\n",
       "        requirejs.config({\n",
       "            paths: {\n",
       "                'plotly': ['https://cdn.plot.ly/plotly-latest.min']\n",
       "            }\n",
       "        });\n",
       "        require(['plotly'], function(Plotly) {\n",
       "            window._Plotly = Plotly;\n",
       "        });\n",
       "        }\n",
       "        </script>\n",
       "        "
      ]
     },
     "metadata": {},
     "output_type": "display_data"
    },
    {
     "data": {
      "application/vnd.plotly.v1+json": {
       "config": {
        "linkText": "Export to plot.ly",
        "plotlyServerURL": "https://plot.ly",
        "showLink": false
       },
       "data": [
        {
         "autocolorscale": false,
         "colorbar": {
          "title": {
           "text": "Million Jobs"
          }
         },
         "colorscale": [
          [
           0,
           "rgb(242,240,247)"
          ],
          [
           0.2,
           "rgb(218,218,235)"
          ],
          [
           0.4,
           "rgb(188,189,220)"
          ],
          [
           0.6,
           "rgb(158,154,200)"
          ],
          [
           0.8,
           "rgb(117,107,177)"
          ],
          [
           1,
           "rgb(84,39,143)"
          ]
         ],
         "locationmode": "USA-states",
         "locations": [
          "AL",
          "AK",
          "AZ",
          "AR",
          "CA",
          "CO",
          "CT",
          "DE",
          "DC",
          "FL",
          "GA",
          "HI",
          "ID",
          "IL",
          "IN",
          "IA",
          "KS",
          "KY",
          "LA",
          "ME",
          "MD",
          "MA",
          "MI",
          "MN",
          "MS",
          "MO",
          "MT",
          "NE",
          "NV",
          "NH",
          "NJ",
          "NM",
          "NY",
          "NC",
          "ND",
          "OH",
          "OK",
          "OR",
          "PA",
          "RI",
          "SC",
          "SD",
          "TN",
          "TX",
          "UT",
          "VT",
          "VA",
          "WA",
          "WV",
          "WI",
          "WY",
          "PR"
         ],
         "marker": {
          "line": {
           "color": "rgb(255,255,255)",
           "width": 2
          }
         },
         "text": [
          "Alabama<br>Manufacturing 257225.0<br>IT 195887.0<br>Finance 21917.0<br>Social Workers 23442.0",
          "Alaska<br>Manufacturing 0.0<br>IT 35739.0<br>Finance 4588.0<br>Social Workers 7927.0",
          "Arizona<br>Manufacturing 182707.0<br>IT 351589.0<br>Finance 39870.0<br>Social Workers 38458.0",
          "Arkansas<br>Manufacturing 152729.0<br>IT 105955.0<br>Finance 11413.0<br>Social Workers 15991.0",
          "California<br>Manufacturing 1441906.0<br>IT 2270443.0<br>Finance 262401.0<br>Social Workers 251407.0",
          "Colorado<br>Manufacturing 167938.0<br>IT 401905.0<br>Finance 38794.0<br>Social Workers 38114.0",
          "Connecticut<br>Manufacturing 162640.0<br>IT 225597.0<br>Finance 30074.0<br>Social Workers 30731.0",
          "Delaware<br>Manufacturing 30135.0<br>IT 53514.0<br>Finance 6552.0<br>Social Workers 9147.0",
          "District of Columbia<br>Manufacturing 0.0<br>IT 81041.0<br>Finance 5085.0<br>Social Workers 7543.0",
          "Florida<br>Manufacturing 405062.0<br>IT 928087.0<br>Finance 120464.0<br>Social Workers 99663.0",
          "Georgia<br>Manufacturing 440882.0<br>IT 541957.0<br>Finance 60510.0<br>Social Workers 52610.0",
          "Hawaii<br>Manufacturing 17425.0<br>IT 67779.0<br>Finance 8494.0<br>Social Workers 8749.0",
          "Idaho<br>Manufacturing 64508.0<br>IT 74426.0<br>Finance 6475.0<br>Social Workers 10107.0",
          "Illinois<br>Manufacturing 650861.0<br>IT 694711.0<br>Finance 83363.0<br>Social Workers 74533.0",
          "Indiana<br>Manufacturing 522602.0<br>IT 309020.0<br>Finance 39462.0<br>Social Workers 38562.0",
          "Iowa<br>Manufacturing 206439.0<br>IT 164348.0<br>Finance 19162.0<br>Social Workers 19386.0",
          "Kansas<br>Manufacturing 156797.0<br>IT 151883.0<br>Finance 20843.0<br>Social Workers 19261.0",
          "Kentucky<br>Manufacturing 254201.0<br>IT 173488.0<br>Finance 20354.0<br>Social Workers 24597.0",
          "Louisiana<br>Manufacturing 135630.0<br>IT 173240.0<br>Finance 26190.0<br>Social Workers 27597.0",
          "Maine<br>Manufacturing 48970.0<br>IT 67611.0<br>Finance 6283.0<br>Social Workers 13479.0",
          "Maryland<br>Manufacturing 115121.0<br>IT 475785.0<br>Finance 51992.0<br>Social Workers 46734.0",
          "Massachusetts<br>Manufacturing 275497.0<br>IT 525611.0<br>Finance 57173.0<br>Social Workers 68564.0",
          "Michigan<br>Manufacturing 762439.0<br>IT 530007.0<br>Finance 52572.0<br>Social Workers 58848.0",
          "Minnesota<br>Manufacturing 347009.0<br>IT 366538.0<br>Finance 40992.0<br>Social Workers 45368.0",
          "Mississippi<br>Manufacturing 141366.0<br>IT 96562.0<br>Finance 10811.0<br>Social Workers 13740.0",
          "Missouri<br>Manufacturing 293826.0<br>IT 297356.0<br>Finance 36751.0<br>Social Workers 35880.0",
          "Montana<br>Manufacturing 20735.0<br>IT 51060.0<br>Finance 4707.0<br>Social Workers 7896.0",
          "Nebraska<br>Manufacturing 91432.0<br>IT 105461.0<br>Finance 14709.0<br>Social Workers 13625.0",
          "Nevada<br>Manufacturing 55144.0<br>IT 118839.0<br>Finance 15959.0<br>Social Workers 13774.0",
          "New Hampshire<br>Manufacturing 75296.0<br>IT 96691.0<br>Finance 8294.0<br>Social Workers 10525.0",
          "New Jersey<br>Manufacturing 320014.0<br>IT 574461.0<br>Finance 79393.0<br>Social Workers 72843.0",
          "New Mexico<br>Manufacturing 29478.0<br>IT 93284.0<br>Finance 9629.0<br>Social Workers 14590.0",
          "New York<br>Manufacturing 491136.0<br>IT 1005030.0<br>Finance 146958.0<br>Social Workers 183364.0",
          "North Carolina<br>Manufacturing 528345.0<br>IT 530593.0<br>Finance 57324.0<br>Social Workers 62386.0",
          "North Dakota<br>Manufacturing 24778.0<br>IT 40865.0<br>Finance 6088.0<br>Social Workers 6353.0",
          "Ohio<br>Manufacturing 730587.0<br>IT 590153.0<br>Finance 69723.0<br>Social Workers 73195.0",
          "Oklahoma<br>Manufacturing 137408.0<br>IT 171769.0<br>Finance 25346.0<br>Social Workers 24023.0",
          "Oregon<br>Manufacturing 191371.0<br>IT 238222.0<br>Finance 22599.0<br>Social Workers 30695.0",
          "Pennsylvania<br>Manufacturing 620310.0<br>IT 657250.0<br>Finance 83945.0<br>Social Workers 104160.0",
          "Rhode Island<br>Manufacturing 47421.0<br>IT 60559.0<br>Finance 6893.0<br>Social Workers 6985.0",
          "South Carolina<br>Manufacturing 264071.0<br>IT 221074.0<br>Finance 22446.0<br>Social Workers 28145.0",
          "South Dakota<br>Manufacturing 39374.0<br>IT 39925.0<br>Finance 4595.0<br>Social Workers 6443.0",
          "Tennessee<br>Manufacturing 355496.0<br>IT 292790.0<br>Finance 37696.0<br>Social Workers 33656.0",
          "Texas<br>Manufacturing 972662.0<br>IT 1467545.0<br>Finance 177646.0<br>Social Workers 134563.0",
          "Utah<br>Manufacturing 129029.0<br>IT 170854.0<br>Finance 17539.0<br>Social Workers 18054.0",
          "Vermont<br>Manufacturing 25929.0<br>IT 36778.0<br>Finance 3771.0<br>Social Workers 7991.0",
          "Virginia<br>Manufacturing 247701.0<br>IT 618536.0<br>Finance 57598.0<br>Social Workers 58448.0",
          "Washington<br>Manufacturing 302888.0<br>IT 505674.0<br>Finance 47212.0<br>Social Workers 50969.0",
          "West Virginia<br>Manufacturing 49955.0<br>IT 57949.0<br>Finance 6313.0<br>Social Workers 10817.0",
          "Wisconsin<br>Manufacturing 463163.0<br>IT 333156.0<br>Finance 36065.0<br>Social Workers 41227.0",
          "Wyoming<br>Manufacturing 0.0<br>IT 23820.0<br>Finance 2318.0<br>Social Workers 4415.0",
          "Puerto Rico<br>Manufacturing 67560.0<br>IT 82430.0<br>Finance 20430.0<br>Social Workers 12690.0"
         ],
         "type": "choropleth",
         "z": [
          498471,
          48254,
          612624,
          286088,
          4226157,
          646751,
          449042,
          99348,
          93669,
          1553276,
          1095959,
          102447,
          155516,
          1503468,
          909646,
          409335,
          348784,
          472640,
          362657,
          136343,
          689632,
          926845,
          1403866,
          799907,
          262479,
          663813,
          84398,
          225227,
          203716,
          190806,
          1046711,
          146981,
          1826488,
          1178648,
          78084,
          1463658,
          358546,
          482887,
          1465665,
          121858,
          535736,
          90337,
          719638,
          2752416,
          335476,
          74469,
          982283,
          906743,
          125034,
          873611,
          30553,
          183110
         ]
        }
       ],
       "layout": {
        "geo": {
         "lakecolor": "rgb(255, 255, 255)",
         "projection": {
          "type": "albers usa"
         },
         "scope": "usa",
         "showlakes": true
        },
        "template": {
         "data": {
          "bar": [
           {
            "error_x": {
             "color": "#2a3f5f"
            },
            "error_y": {
             "color": "#2a3f5f"
            },
            "marker": {
             "line": {
              "color": "#E5ECF6",
              "width": 0.5
             }
            },
            "type": "bar"
           }
          ],
          "barpolar": [
           {
            "marker": {
             "line": {
              "color": "#E5ECF6",
              "width": 0.5
             }
            },
            "type": "barpolar"
           }
          ],
          "carpet": [
           {
            "aaxis": {
             "endlinecolor": "#2a3f5f",
             "gridcolor": "white",
             "linecolor": "white",
             "minorgridcolor": "white",
             "startlinecolor": "#2a3f5f"
            },
            "baxis": {
             "endlinecolor": "#2a3f5f",
             "gridcolor": "white",
             "linecolor": "white",
             "minorgridcolor": "white",
             "startlinecolor": "#2a3f5f"
            },
            "type": "carpet"
           }
          ],
          "choropleth": [
           {
            "colorbar": {
             "outlinewidth": 0,
             "ticks": ""
            },
            "type": "choropleth"
           }
          ],
          "contour": [
           {
            "colorbar": {
             "outlinewidth": 0,
             "ticks": ""
            },
            "colorscale": [
             [
              0,
              "#0d0887"
             ],
             [
              0.1111111111111111,
              "#46039f"
             ],
             [
              0.2222222222222222,
              "#7201a8"
             ],
             [
              0.3333333333333333,
              "#9c179e"
             ],
             [
              0.4444444444444444,
              "#bd3786"
             ],
             [
              0.5555555555555556,
              "#d8576b"
             ],
             [
              0.6666666666666666,
              "#ed7953"
             ],
             [
              0.7777777777777778,
              "#fb9f3a"
             ],
             [
              0.8888888888888888,
              "#fdca26"
             ],
             [
              1,
              "#f0f921"
             ]
            ],
            "type": "contour"
           }
          ],
          "contourcarpet": [
           {
            "colorbar": {
             "outlinewidth": 0,
             "ticks": ""
            },
            "type": "contourcarpet"
           }
          ],
          "heatmap": [
           {
            "colorbar": {
             "outlinewidth": 0,
             "ticks": ""
            },
            "colorscale": [
             [
              0,
              "#0d0887"
             ],
             [
              0.1111111111111111,
              "#46039f"
             ],
             [
              0.2222222222222222,
              "#7201a8"
             ],
             [
              0.3333333333333333,
              "#9c179e"
             ],
             [
              0.4444444444444444,
              "#bd3786"
             ],
             [
              0.5555555555555556,
              "#d8576b"
             ],
             [
              0.6666666666666666,
              "#ed7953"
             ],
             [
              0.7777777777777778,
              "#fb9f3a"
             ],
             [
              0.8888888888888888,
              "#fdca26"
             ],
             [
              1,
              "#f0f921"
             ]
            ],
            "type": "heatmap"
           }
          ],
          "heatmapgl": [
           {
            "colorbar": {
             "outlinewidth": 0,
             "ticks": ""
            },
            "colorscale": [
             [
              0,
              "#0d0887"
             ],
             [
              0.1111111111111111,
              "#46039f"
             ],
             [
              0.2222222222222222,
              "#7201a8"
             ],
             [
              0.3333333333333333,
              "#9c179e"
             ],
             [
              0.4444444444444444,
              "#bd3786"
             ],
             [
              0.5555555555555556,
              "#d8576b"
             ],
             [
              0.6666666666666666,
              "#ed7953"
             ],
             [
              0.7777777777777778,
              "#fb9f3a"
             ],
             [
              0.8888888888888888,
              "#fdca26"
             ],
             [
              1,
              "#f0f921"
             ]
            ],
            "type": "heatmapgl"
           }
          ],
          "histogram": [
           {
            "marker": {
             "colorbar": {
              "outlinewidth": 0,
              "ticks": ""
             }
            },
            "type": "histogram"
           }
          ],
          "histogram2d": [
           {
            "colorbar": {
             "outlinewidth": 0,
             "ticks": ""
            },
            "colorscale": [
             [
              0,
              "#0d0887"
             ],
             [
              0.1111111111111111,
              "#46039f"
             ],
             [
              0.2222222222222222,
              "#7201a8"
             ],
             [
              0.3333333333333333,
              "#9c179e"
             ],
             [
              0.4444444444444444,
              "#bd3786"
             ],
             [
              0.5555555555555556,
              "#d8576b"
             ],
             [
              0.6666666666666666,
              "#ed7953"
             ],
             [
              0.7777777777777778,
              "#fb9f3a"
             ],
             [
              0.8888888888888888,
              "#fdca26"
             ],
             [
              1,
              "#f0f921"
             ]
            ],
            "type": "histogram2d"
           }
          ],
          "histogram2dcontour": [
           {
            "colorbar": {
             "outlinewidth": 0,
             "ticks": ""
            },
            "colorscale": [
             [
              0,
              "#0d0887"
             ],
             [
              0.1111111111111111,
              "#46039f"
             ],
             [
              0.2222222222222222,
              "#7201a8"
             ],
             [
              0.3333333333333333,
              "#9c179e"
             ],
             [
              0.4444444444444444,
              "#bd3786"
             ],
             [
              0.5555555555555556,
              "#d8576b"
             ],
             [
              0.6666666666666666,
              "#ed7953"
             ],
             [
              0.7777777777777778,
              "#fb9f3a"
             ],
             [
              0.8888888888888888,
              "#fdca26"
             ],
             [
              1,
              "#f0f921"
             ]
            ],
            "type": "histogram2dcontour"
           }
          ],
          "mesh3d": [
           {
            "colorbar": {
             "outlinewidth": 0,
             "ticks": ""
            },
            "type": "mesh3d"
           }
          ],
          "parcoords": [
           {
            "line": {
             "colorbar": {
              "outlinewidth": 0,
              "ticks": ""
             }
            },
            "type": "parcoords"
           }
          ],
          "scatter": [
           {
            "marker": {
             "colorbar": {
              "outlinewidth": 0,
              "ticks": ""
             }
            },
            "type": "scatter"
           }
          ],
          "scatter3d": [
           {
            "line": {
             "colorbar": {
              "outlinewidth": 0,
              "ticks": ""
             }
            },
            "marker": {
             "colorbar": {
              "outlinewidth": 0,
              "ticks": ""
             }
            },
            "type": "scatter3d"
           }
          ],
          "scattercarpet": [
           {
            "marker": {
             "colorbar": {
              "outlinewidth": 0,
              "ticks": ""
             }
            },
            "type": "scattercarpet"
           }
          ],
          "scattergeo": [
           {
            "marker": {
             "colorbar": {
              "outlinewidth": 0,
              "ticks": ""
             }
            },
            "type": "scattergeo"
           }
          ],
          "scattergl": [
           {
            "marker": {
             "colorbar": {
              "outlinewidth": 0,
              "ticks": ""
             }
            },
            "type": "scattergl"
           }
          ],
          "scattermapbox": [
           {
            "marker": {
             "colorbar": {
              "outlinewidth": 0,
              "ticks": ""
             }
            },
            "type": "scattermapbox"
           }
          ],
          "scatterpolar": [
           {
            "marker": {
             "colorbar": {
              "outlinewidth": 0,
              "ticks": ""
             }
            },
            "type": "scatterpolar"
           }
          ],
          "scatterpolargl": [
           {
            "marker": {
             "colorbar": {
              "outlinewidth": 0,
              "ticks": ""
             }
            },
            "type": "scatterpolargl"
           }
          ],
          "scatterternary": [
           {
            "marker": {
             "colorbar": {
              "outlinewidth": 0,
              "ticks": ""
             }
            },
            "type": "scatterternary"
           }
          ],
          "surface": [
           {
            "colorbar": {
             "outlinewidth": 0,
             "ticks": ""
            },
            "colorscale": [
             [
              0,
              "#0d0887"
             ],
             [
              0.1111111111111111,
              "#46039f"
             ],
             [
              0.2222222222222222,
              "#7201a8"
             ],
             [
              0.3333333333333333,
              "#9c179e"
             ],
             [
              0.4444444444444444,
              "#bd3786"
             ],
             [
              0.5555555555555556,
              "#d8576b"
             ],
             [
              0.6666666666666666,
              "#ed7953"
             ],
             [
              0.7777777777777778,
              "#fb9f3a"
             ],
             [
              0.8888888888888888,
              "#fdca26"
             ],
             [
              1,
              "#f0f921"
             ]
            ],
            "type": "surface"
           }
          ],
          "table": [
           {
            "cells": {
             "fill": {
              "color": "#EBF0F8"
             },
             "line": {
              "color": "white"
             }
            },
            "header": {
             "fill": {
              "color": "#C8D4E3"
             },
             "line": {
              "color": "white"
             }
            },
            "type": "table"
           }
          ]
         },
         "layout": {
          "annotationdefaults": {
           "arrowcolor": "#2a3f5f",
           "arrowhead": 0,
           "arrowwidth": 1
          },
          "colorscale": {
           "diverging": [
            [
             0,
             "#8e0152"
            ],
            [
             0.1,
             "#c51b7d"
            ],
            [
             0.2,
             "#de77ae"
            ],
            [
             0.3,
             "#f1b6da"
            ],
            [
             0.4,
             "#fde0ef"
            ],
            [
             0.5,
             "#f7f7f7"
            ],
            [
             0.6,
             "#e6f5d0"
            ],
            [
             0.7,
             "#b8e186"
            ],
            [
             0.8,
             "#7fbc41"
            ],
            [
             0.9,
             "#4d9221"
            ],
            [
             1,
             "#276419"
            ]
           ],
           "sequential": [
            [
             0,
             "#0d0887"
            ],
            [
             0.1111111111111111,
             "#46039f"
            ],
            [
             0.2222222222222222,
             "#7201a8"
            ],
            [
             0.3333333333333333,
             "#9c179e"
            ],
            [
             0.4444444444444444,
             "#bd3786"
            ],
            [
             0.5555555555555556,
             "#d8576b"
            ],
            [
             0.6666666666666666,
             "#ed7953"
            ],
            [
             0.7777777777777778,
             "#fb9f3a"
            ],
            [
             0.8888888888888888,
             "#fdca26"
            ],
            [
             1,
             "#f0f921"
            ]
           ],
           "sequentialminus": [
            [
             0,
             "#0d0887"
            ],
            [
             0.1111111111111111,
             "#46039f"
            ],
            [
             0.2222222222222222,
             "#7201a8"
            ],
            [
             0.3333333333333333,
             "#9c179e"
            ],
            [
             0.4444444444444444,
             "#bd3786"
            ],
            [
             0.5555555555555556,
             "#d8576b"
            ],
            [
             0.6666666666666666,
             "#ed7953"
            ],
            [
             0.7777777777777778,
             "#fb9f3a"
            ],
            [
             0.8888888888888888,
             "#fdca26"
            ],
            [
             1,
             "#f0f921"
            ]
           ]
          },
          "colorway": [
           "#636efa",
           "#EF553B",
           "#00cc96",
           "#ab63fa",
           "#FFA15A",
           "#19d3f3",
           "#FF6692",
           "#B6E880",
           "#FF97FF",
           "#FECB52"
          ],
          "font": {
           "color": "#2a3f5f"
          },
          "geo": {
           "bgcolor": "white",
           "lakecolor": "white",
           "landcolor": "#E5ECF6",
           "showlakes": true,
           "showland": true,
           "subunitcolor": "white"
          },
          "hoverlabel": {
           "align": "left"
          },
          "hovermode": "closest",
          "mapbox": {
           "style": "light"
          },
          "paper_bgcolor": "white",
          "plot_bgcolor": "#E5ECF6",
          "polar": {
           "angularaxis": {
            "gridcolor": "white",
            "linecolor": "white",
            "ticks": ""
           },
           "bgcolor": "#E5ECF6",
           "radialaxis": {
            "gridcolor": "white",
            "linecolor": "white",
            "ticks": ""
           }
          },
          "scene": {
           "xaxis": {
            "backgroundcolor": "#E5ECF6",
            "gridcolor": "white",
            "gridwidth": 2,
            "linecolor": "white",
            "showbackground": true,
            "ticks": "",
            "zerolinecolor": "white"
           },
           "yaxis": {
            "backgroundcolor": "#E5ECF6",
            "gridcolor": "white",
            "gridwidth": 2,
            "linecolor": "white",
            "showbackground": true,
            "ticks": "",
            "zerolinecolor": "white"
           },
           "zaxis": {
            "backgroundcolor": "#E5ECF6",
            "gridcolor": "white",
            "gridwidth": 2,
            "linecolor": "white",
            "showbackground": true,
            "ticks": "",
            "zerolinecolor": "white"
           }
          },
          "shapedefaults": {
           "line": {
            "color": "#2a3f5f"
           }
          },
          "ternary": {
           "aaxis": {
            "gridcolor": "white",
            "linecolor": "white",
            "ticks": ""
           },
           "baxis": {
            "gridcolor": "white",
            "linecolor": "white",
            "ticks": ""
           },
           "bgcolor": "#E5ECF6",
           "caxis": {
            "gridcolor": "white",
            "linecolor": "white",
            "ticks": ""
           }
          },
          "title": {
           "x": 0.05
          },
          "xaxis": {
           "automargin": true,
           "gridcolor": "white",
           "linecolor": "white",
           "ticks": "",
           "zerolinecolor": "white",
           "zerolinewidth": 2
          },
          "yaxis": {
           "automargin": true,
           "gridcolor": "white",
           "linecolor": "white",
           "ticks": "",
           "zerolinecolor": "white",
           "zerolinewidth": 2
          }
         }
        },
        "title": {
         "text": "US Job Trend Distributed Across all States (Hover for breakdown)"
        }
       }
      },
      "text/html": [
       "<div>\n",
       "        \n",
       "        \n",
       "            <div id=\"5f8ce3e1-4c1b-42f1-a495-4f43ac1591e3\" class=\"plotly-graph-div\" style=\"height:525px; width:100%;\"></div>\n",
       "            <script type=\"text/javascript\">\n",
       "                require([\"plotly\"], function(Plotly) {\n",
       "                    window.PLOTLYENV=window.PLOTLYENV || {};\n",
       "                    \n",
       "                if (document.getElementById(\"5f8ce3e1-4c1b-42f1-a495-4f43ac1591e3\")) {\n",
       "                    Plotly.newPlot(\n",
       "                        '5f8ce3e1-4c1b-42f1-a495-4f43ac1591e3',\n",
       "                        [{\"autocolorscale\": false, \"colorbar\": {\"title\": {\"text\": \"Million Jobs\"}}, \"colorscale\": [[0.0, \"rgb(242,240,247)\"], [0.2, \"rgb(218,218,235)\"], [0.4, \"rgb(188,189,220)\"], [0.6, \"rgb(158,154,200)\"], [0.8, \"rgb(117,107,177)\"], [1.0, \"rgb(84,39,143)\"]], \"locationmode\": \"USA-states\", \"locations\": [\"AL\", \"AK\", \"AZ\", \"AR\", \"CA\", \"CO\", \"CT\", \"DE\", \"DC\", \"FL\", \"GA\", \"HI\", \"ID\", \"IL\", \"IN\", \"IA\", \"KS\", \"KY\", \"LA\", \"ME\", \"MD\", \"MA\", \"MI\", \"MN\", \"MS\", \"MO\", \"MT\", \"NE\", \"NV\", \"NH\", \"NJ\", \"NM\", \"NY\", \"NC\", \"ND\", \"OH\", \"OK\", \"OR\", \"PA\", \"RI\", \"SC\", \"SD\", \"TN\", \"TX\", \"UT\", \"VT\", \"VA\", \"WA\", \"WV\", \"WI\", \"WY\", \"PR\"], \"marker\": {\"line\": {\"color\": \"rgb(255,255,255)\", \"width\": 2}}, \"text\": [\"Alabama<br>Manufacturing 257225.0<br>IT 195887.0<br>Finance 21917.0<br>Social Workers 23442.0\", \"Alaska<br>Manufacturing 0.0<br>IT 35739.0<br>Finance 4588.0<br>Social Workers 7927.0\", \"Arizona<br>Manufacturing 182707.0<br>IT 351589.0<br>Finance 39870.0<br>Social Workers 38458.0\", \"Arkansas<br>Manufacturing 152729.0<br>IT 105955.0<br>Finance 11413.0<br>Social Workers 15991.0\", \"California<br>Manufacturing 1441906.0<br>IT 2270443.0<br>Finance 262401.0<br>Social Workers 251407.0\", \"Colorado<br>Manufacturing 167938.0<br>IT 401905.0<br>Finance 38794.0<br>Social Workers 38114.0\", \"Connecticut<br>Manufacturing 162640.0<br>IT 225597.0<br>Finance 30074.0<br>Social Workers 30731.0\", \"Delaware<br>Manufacturing 30135.0<br>IT 53514.0<br>Finance 6552.0<br>Social Workers 9147.0\", \"District of Columbia<br>Manufacturing 0.0<br>IT 81041.0<br>Finance 5085.0<br>Social Workers 7543.0\", \"Florida<br>Manufacturing 405062.0<br>IT 928087.0<br>Finance 120464.0<br>Social Workers 99663.0\", \"Georgia<br>Manufacturing 440882.0<br>IT 541957.0<br>Finance 60510.0<br>Social Workers 52610.0\", \"Hawaii<br>Manufacturing 17425.0<br>IT 67779.0<br>Finance 8494.0<br>Social Workers 8749.0\", \"Idaho<br>Manufacturing 64508.0<br>IT 74426.0<br>Finance 6475.0<br>Social Workers 10107.0\", \"Illinois<br>Manufacturing 650861.0<br>IT 694711.0<br>Finance 83363.0<br>Social Workers 74533.0\", \"Indiana<br>Manufacturing 522602.0<br>IT 309020.0<br>Finance 39462.0<br>Social Workers 38562.0\", \"Iowa<br>Manufacturing 206439.0<br>IT 164348.0<br>Finance 19162.0<br>Social Workers 19386.0\", \"Kansas<br>Manufacturing 156797.0<br>IT 151883.0<br>Finance 20843.0<br>Social Workers 19261.0\", \"Kentucky<br>Manufacturing 254201.0<br>IT 173488.0<br>Finance 20354.0<br>Social Workers 24597.0\", \"Louisiana<br>Manufacturing 135630.0<br>IT 173240.0<br>Finance 26190.0<br>Social Workers 27597.0\", \"Maine<br>Manufacturing 48970.0<br>IT 67611.0<br>Finance 6283.0<br>Social Workers 13479.0\", \"Maryland<br>Manufacturing 115121.0<br>IT 475785.0<br>Finance 51992.0<br>Social Workers 46734.0\", \"Massachusetts<br>Manufacturing 275497.0<br>IT 525611.0<br>Finance 57173.0<br>Social Workers 68564.0\", \"Michigan<br>Manufacturing 762439.0<br>IT 530007.0<br>Finance 52572.0<br>Social Workers 58848.0\", \"Minnesota<br>Manufacturing 347009.0<br>IT 366538.0<br>Finance 40992.0<br>Social Workers 45368.0\", \"Mississippi<br>Manufacturing 141366.0<br>IT 96562.0<br>Finance 10811.0<br>Social Workers 13740.0\", \"Missouri<br>Manufacturing 293826.0<br>IT 297356.0<br>Finance 36751.0<br>Social Workers 35880.0\", \"Montana<br>Manufacturing 20735.0<br>IT 51060.0<br>Finance 4707.0<br>Social Workers 7896.0\", \"Nebraska<br>Manufacturing 91432.0<br>IT 105461.0<br>Finance 14709.0<br>Social Workers 13625.0\", \"Nevada<br>Manufacturing 55144.0<br>IT 118839.0<br>Finance 15959.0<br>Social Workers 13774.0\", \"New Hampshire<br>Manufacturing 75296.0<br>IT 96691.0<br>Finance 8294.0<br>Social Workers 10525.0\", \"New Jersey<br>Manufacturing 320014.0<br>IT 574461.0<br>Finance 79393.0<br>Social Workers 72843.0\", \"New Mexico<br>Manufacturing 29478.0<br>IT 93284.0<br>Finance 9629.0<br>Social Workers 14590.0\", \"New York<br>Manufacturing 491136.0<br>IT 1005030.0<br>Finance 146958.0<br>Social Workers 183364.0\", \"North Carolina<br>Manufacturing 528345.0<br>IT 530593.0<br>Finance 57324.0<br>Social Workers 62386.0\", \"North Dakota<br>Manufacturing 24778.0<br>IT 40865.0<br>Finance 6088.0<br>Social Workers 6353.0\", \"Ohio<br>Manufacturing 730587.0<br>IT 590153.0<br>Finance 69723.0<br>Social Workers 73195.0\", \"Oklahoma<br>Manufacturing 137408.0<br>IT 171769.0<br>Finance 25346.0<br>Social Workers 24023.0\", \"Oregon<br>Manufacturing 191371.0<br>IT 238222.0<br>Finance 22599.0<br>Social Workers 30695.0\", \"Pennsylvania<br>Manufacturing 620310.0<br>IT 657250.0<br>Finance 83945.0<br>Social Workers 104160.0\", \"Rhode Island<br>Manufacturing 47421.0<br>IT 60559.0<br>Finance 6893.0<br>Social Workers 6985.0\", \"South Carolina<br>Manufacturing 264071.0<br>IT 221074.0<br>Finance 22446.0<br>Social Workers 28145.0\", \"South Dakota<br>Manufacturing 39374.0<br>IT 39925.0<br>Finance 4595.0<br>Social Workers 6443.0\", \"Tennessee<br>Manufacturing 355496.0<br>IT 292790.0<br>Finance 37696.0<br>Social Workers 33656.0\", \"Texas<br>Manufacturing 972662.0<br>IT 1467545.0<br>Finance 177646.0<br>Social Workers 134563.0\", \"Utah<br>Manufacturing 129029.0<br>IT 170854.0<br>Finance 17539.0<br>Social Workers 18054.0\", \"Vermont<br>Manufacturing 25929.0<br>IT 36778.0<br>Finance 3771.0<br>Social Workers 7991.0\", \"Virginia<br>Manufacturing 247701.0<br>IT 618536.0<br>Finance 57598.0<br>Social Workers 58448.0\", \"Washington<br>Manufacturing 302888.0<br>IT 505674.0<br>Finance 47212.0<br>Social Workers 50969.0\", \"West Virginia<br>Manufacturing 49955.0<br>IT 57949.0<br>Finance 6313.0<br>Social Workers 10817.0\", \"Wisconsin<br>Manufacturing 463163.0<br>IT 333156.0<br>Finance 36065.0<br>Social Workers 41227.0\", \"Wyoming<br>Manufacturing 0.0<br>IT 23820.0<br>Finance 2318.0<br>Social Workers 4415.0\", \"Puerto Rico<br>Manufacturing 67560.0<br>IT 82430.0<br>Finance 20430.0<br>Social Workers 12690.0\"], \"type\": \"choropleth\", \"z\": [498471.0, 48254.0, 612624.0, 286088.0, 4226157.0, 646751.0, 449042.0, 99348.0, 93669.0, 1553276.0, 1095959.0, 102447.0, 155516.0, 1503468.0, 909646.0, 409335.0, 348784.0, 472640.0, 362657.0, 136343.0, 689632.0, 926845.0, 1403866.0, 799907.0, 262479.0, 663813.0, 84398.0, 225227.0, 203716.0, 190806.0, 1046711.0, 146981.0, 1826488.0, 1178648.0, 78084.0, 1463658.0, 358546.0, 482887.0, 1465665.0, 121858.0, 535736.0, 90337.0, 719638.0, 2752416.0, 335476.0, 74469.0, 982283.0, 906743.0, 125034.0, 873611.0, 30553.0, 183110.0]}],\n",
       "                        {\"geo\": {\"lakecolor\": \"rgb(255, 255, 255)\", \"projection\": {\"type\": \"albers usa\"}, \"scope\": \"usa\", \"showlakes\": true}, \"template\": {\"data\": {\"bar\": [{\"error_x\": {\"color\": \"#2a3f5f\"}, \"error_y\": {\"color\": \"#2a3f5f\"}, \"marker\": {\"line\": {\"color\": \"#E5ECF6\", \"width\": 0.5}}, \"type\": \"bar\"}], \"barpolar\": [{\"marker\": {\"line\": {\"color\": \"#E5ECF6\", \"width\": 0.5}}, \"type\": \"barpolar\"}], \"carpet\": [{\"aaxis\": {\"endlinecolor\": \"#2a3f5f\", \"gridcolor\": \"white\", \"linecolor\": \"white\", \"minorgridcolor\": \"white\", \"startlinecolor\": \"#2a3f5f\"}, \"baxis\": {\"endlinecolor\": \"#2a3f5f\", \"gridcolor\": \"white\", \"linecolor\": \"white\", \"minorgridcolor\": \"white\", \"startlinecolor\": \"#2a3f5f\"}, \"type\": \"carpet\"}], \"choropleth\": [{\"colorbar\": {\"outlinewidth\": 0, \"ticks\": \"\"}, \"type\": \"choropleth\"}], \"contour\": [{\"colorbar\": {\"outlinewidth\": 0, \"ticks\": \"\"}, \"colorscale\": [[0.0, \"#0d0887\"], [0.1111111111111111, \"#46039f\"], [0.2222222222222222, \"#7201a8\"], [0.3333333333333333, \"#9c179e\"], [0.4444444444444444, \"#bd3786\"], [0.5555555555555556, \"#d8576b\"], [0.6666666666666666, \"#ed7953\"], [0.7777777777777778, \"#fb9f3a\"], [0.8888888888888888, \"#fdca26\"], [1.0, \"#f0f921\"]], \"type\": \"contour\"}], \"contourcarpet\": [{\"colorbar\": {\"outlinewidth\": 0, \"ticks\": \"\"}, \"type\": \"contourcarpet\"}], \"heatmap\": [{\"colorbar\": {\"outlinewidth\": 0, \"ticks\": \"\"}, \"colorscale\": [[0.0, \"#0d0887\"], [0.1111111111111111, \"#46039f\"], [0.2222222222222222, \"#7201a8\"], [0.3333333333333333, \"#9c179e\"], [0.4444444444444444, \"#bd3786\"], [0.5555555555555556, \"#d8576b\"], [0.6666666666666666, \"#ed7953\"], [0.7777777777777778, \"#fb9f3a\"], [0.8888888888888888, \"#fdca26\"], [1.0, \"#f0f921\"]], \"type\": \"heatmap\"}], \"heatmapgl\": [{\"colorbar\": {\"outlinewidth\": 0, \"ticks\": \"\"}, \"colorscale\": [[0.0, \"#0d0887\"], [0.1111111111111111, \"#46039f\"], [0.2222222222222222, \"#7201a8\"], [0.3333333333333333, \"#9c179e\"], [0.4444444444444444, \"#bd3786\"], [0.5555555555555556, \"#d8576b\"], [0.6666666666666666, \"#ed7953\"], [0.7777777777777778, \"#fb9f3a\"], [0.8888888888888888, \"#fdca26\"], [1.0, \"#f0f921\"]], \"type\": \"heatmapgl\"}], \"histogram\": [{\"marker\": {\"colorbar\": {\"outlinewidth\": 0, \"ticks\": \"\"}}, \"type\": \"histogram\"}], \"histogram2d\": [{\"colorbar\": {\"outlinewidth\": 0, \"ticks\": \"\"}, \"colorscale\": [[0.0, \"#0d0887\"], [0.1111111111111111, \"#46039f\"], [0.2222222222222222, \"#7201a8\"], [0.3333333333333333, \"#9c179e\"], [0.4444444444444444, \"#bd3786\"], [0.5555555555555556, \"#d8576b\"], [0.6666666666666666, \"#ed7953\"], [0.7777777777777778, \"#fb9f3a\"], [0.8888888888888888, \"#fdca26\"], [1.0, \"#f0f921\"]], \"type\": \"histogram2d\"}], \"histogram2dcontour\": [{\"colorbar\": {\"outlinewidth\": 0, \"ticks\": \"\"}, \"colorscale\": [[0.0, \"#0d0887\"], [0.1111111111111111, \"#46039f\"], [0.2222222222222222, \"#7201a8\"], [0.3333333333333333, \"#9c179e\"], [0.4444444444444444, \"#bd3786\"], [0.5555555555555556, \"#d8576b\"], [0.6666666666666666, \"#ed7953\"], [0.7777777777777778, \"#fb9f3a\"], [0.8888888888888888, \"#fdca26\"], [1.0, \"#f0f921\"]], \"type\": \"histogram2dcontour\"}], \"mesh3d\": [{\"colorbar\": {\"outlinewidth\": 0, \"ticks\": \"\"}, \"type\": \"mesh3d\"}], \"parcoords\": [{\"line\": {\"colorbar\": {\"outlinewidth\": 0, \"ticks\": \"\"}}, \"type\": \"parcoords\"}], \"scatter\": [{\"marker\": {\"colorbar\": {\"outlinewidth\": 0, \"ticks\": \"\"}}, \"type\": \"scatter\"}], \"scatter3d\": [{\"line\": {\"colorbar\": {\"outlinewidth\": 0, \"ticks\": \"\"}}, \"marker\": {\"colorbar\": {\"outlinewidth\": 0, \"ticks\": \"\"}}, \"type\": \"scatter3d\"}], \"scattercarpet\": [{\"marker\": {\"colorbar\": {\"outlinewidth\": 0, \"ticks\": \"\"}}, \"type\": \"scattercarpet\"}], \"scattergeo\": [{\"marker\": {\"colorbar\": {\"outlinewidth\": 0, \"ticks\": \"\"}}, \"type\": \"scattergeo\"}], \"scattergl\": [{\"marker\": {\"colorbar\": {\"outlinewidth\": 0, \"ticks\": \"\"}}, \"type\": \"scattergl\"}], \"scattermapbox\": [{\"marker\": {\"colorbar\": {\"outlinewidth\": 0, \"ticks\": \"\"}}, \"type\": \"scattermapbox\"}], \"scatterpolar\": [{\"marker\": {\"colorbar\": {\"outlinewidth\": 0, \"ticks\": \"\"}}, \"type\": \"scatterpolar\"}], \"scatterpolargl\": [{\"marker\": {\"colorbar\": {\"outlinewidth\": 0, \"ticks\": \"\"}}, \"type\": \"scatterpolargl\"}], \"scatterternary\": [{\"marker\": {\"colorbar\": {\"outlinewidth\": 0, \"ticks\": \"\"}}, \"type\": \"scatterternary\"}], \"surface\": [{\"colorbar\": {\"outlinewidth\": 0, \"ticks\": \"\"}, \"colorscale\": [[0.0, \"#0d0887\"], [0.1111111111111111, \"#46039f\"], [0.2222222222222222, \"#7201a8\"], [0.3333333333333333, \"#9c179e\"], [0.4444444444444444, \"#bd3786\"], [0.5555555555555556, \"#d8576b\"], [0.6666666666666666, \"#ed7953\"], [0.7777777777777778, \"#fb9f3a\"], [0.8888888888888888, \"#fdca26\"], [1.0, \"#f0f921\"]], \"type\": \"surface\"}], \"table\": [{\"cells\": {\"fill\": {\"color\": \"#EBF0F8\"}, \"line\": {\"color\": \"white\"}}, \"header\": {\"fill\": {\"color\": \"#C8D4E3\"}, \"line\": {\"color\": \"white\"}}, \"type\": \"table\"}]}, \"layout\": {\"annotationdefaults\": {\"arrowcolor\": \"#2a3f5f\", \"arrowhead\": 0, \"arrowwidth\": 1}, \"colorscale\": {\"diverging\": [[0, \"#8e0152\"], [0.1, \"#c51b7d\"], [0.2, \"#de77ae\"], [0.3, \"#f1b6da\"], [0.4, \"#fde0ef\"], [0.5, \"#f7f7f7\"], [0.6, \"#e6f5d0\"], [0.7, \"#b8e186\"], [0.8, \"#7fbc41\"], [0.9, \"#4d9221\"], [1, \"#276419\"]], \"sequential\": [[0.0, \"#0d0887\"], [0.1111111111111111, \"#46039f\"], [0.2222222222222222, \"#7201a8\"], [0.3333333333333333, \"#9c179e\"], [0.4444444444444444, \"#bd3786\"], [0.5555555555555556, \"#d8576b\"], [0.6666666666666666, \"#ed7953\"], [0.7777777777777778, \"#fb9f3a\"], [0.8888888888888888, \"#fdca26\"], [1.0, \"#f0f921\"]], \"sequentialminus\": [[0.0, \"#0d0887\"], [0.1111111111111111, \"#46039f\"], [0.2222222222222222, \"#7201a8\"], [0.3333333333333333, \"#9c179e\"], [0.4444444444444444, \"#bd3786\"], [0.5555555555555556, \"#d8576b\"], [0.6666666666666666, \"#ed7953\"], [0.7777777777777778, \"#fb9f3a\"], [0.8888888888888888, \"#fdca26\"], [1.0, \"#f0f921\"]]}, \"colorway\": [\"#636efa\", \"#EF553B\", \"#00cc96\", \"#ab63fa\", \"#FFA15A\", \"#19d3f3\", \"#FF6692\", \"#B6E880\", \"#FF97FF\", \"#FECB52\"], \"font\": {\"color\": \"#2a3f5f\"}, \"geo\": {\"bgcolor\": \"white\", \"lakecolor\": \"white\", \"landcolor\": \"#E5ECF6\", \"showlakes\": true, \"showland\": true, \"subunitcolor\": \"white\"}, \"hoverlabel\": {\"align\": \"left\"}, \"hovermode\": \"closest\", \"mapbox\": {\"style\": \"light\"}, \"paper_bgcolor\": \"white\", \"plot_bgcolor\": \"#E5ECF6\", \"polar\": {\"angularaxis\": {\"gridcolor\": \"white\", \"linecolor\": \"white\", \"ticks\": \"\"}, \"bgcolor\": \"#E5ECF6\", \"radialaxis\": {\"gridcolor\": \"white\", \"linecolor\": \"white\", \"ticks\": \"\"}}, \"scene\": {\"xaxis\": {\"backgroundcolor\": \"#E5ECF6\", \"gridcolor\": \"white\", \"gridwidth\": 2, \"linecolor\": \"white\", \"showbackground\": true, \"ticks\": \"\", \"zerolinecolor\": \"white\"}, \"yaxis\": {\"backgroundcolor\": \"#E5ECF6\", \"gridcolor\": \"white\", \"gridwidth\": 2, \"linecolor\": \"white\", \"showbackground\": true, \"ticks\": \"\", \"zerolinecolor\": \"white\"}, \"zaxis\": {\"backgroundcolor\": \"#E5ECF6\", \"gridcolor\": \"white\", \"gridwidth\": 2, \"linecolor\": \"white\", \"showbackground\": true, \"ticks\": \"\", \"zerolinecolor\": \"white\"}}, \"shapedefaults\": {\"line\": {\"color\": \"#2a3f5f\"}}, \"ternary\": {\"aaxis\": {\"gridcolor\": \"white\", \"linecolor\": \"white\", \"ticks\": \"\"}, \"baxis\": {\"gridcolor\": \"white\", \"linecolor\": \"white\", \"ticks\": \"\"}, \"bgcolor\": \"#E5ECF6\", \"caxis\": {\"gridcolor\": \"white\", \"linecolor\": \"white\", \"ticks\": \"\"}}, \"title\": {\"x\": 0.05}, \"xaxis\": {\"automargin\": true, \"gridcolor\": \"white\", \"linecolor\": \"white\", \"ticks\": \"\", \"zerolinecolor\": \"white\", \"zerolinewidth\": 2}, \"yaxis\": {\"automargin\": true, \"gridcolor\": \"white\", \"linecolor\": \"white\", \"ticks\": \"\", \"zerolinecolor\": \"white\", \"zerolinewidth\": 2}}}, \"title\": {\"text\": \"US Job Trend Distributed Across all States (Hover for breakdown)\"}},\n",
       "                        {\"responsive\": true}\n",
       "                    ).then(function(){\n",
       "                            \n",
       "var gd = document.getElementById('5f8ce3e1-4c1b-42f1-a495-4f43ac1591e3');\n",
       "var x = new MutationObserver(function (mutations, observer) {{\n",
       "        var display = window.getComputedStyle(gd).display;\n",
       "        if (!display || display === 'none') {{\n",
       "            console.log([gd, 'removed!']);\n",
       "            Plotly.purge(gd);\n",
       "            observer.disconnect();\n",
       "        }}\n",
       "}});\n",
       "\n",
       "// Listen for the removal of the full notebook cells\n",
       "var notebookContainer = gd.closest('#notebook-container');\n",
       "if (notebookContainer) {{\n",
       "    x.observe(notebookContainer, {childList: true});\n",
       "}}\n",
       "\n",
       "// Listen for the clearing of the current output cell\n",
       "var outputEl = gd.closest('.output');\n",
       "if (outputEl) {{\n",
       "    x.observe(outputEl, {childList: true});\n",
       "}}\n",
       "\n",
       "                        })\n",
       "                };\n",
       "                });\n",
       "            </script>\n",
       "        </div>"
      ]
     },
     "metadata": {},
     "output_type": "display_data"
    }
   ],
   "source": [
    "from plotly.offline import download_plotlyjs, init_notebook_mode, plot, iplot\n",
    "import pandas as pd\n",
    "init_notebook_mode(connected=True)\n",
    "\n",
    "\n",
    "for col in df.columns:\n",
    "    df[col] = df[col].astype(str)\n",
    "    \n",
    "# assign color \n",
    "scl = [[0.0, 'rgb(242,240,247)'],[0.2, 'rgb(218,218,235)'],[0.4, 'rgb(188,189,220)'],\\\n",
    "            [0.6, 'rgb(158,154,200)'],[0.8, 'rgb(117,107,177)'],[1.0, 'rgb(84,39,143)']]\n",
    "\n",
    "\n",
    "df['text'] = df['State Name'] + '<br>' +\\\n",
    "    'Manufacturing '+df['Manufacturing']+'<br>'+\\\n",
    "    'IT '+df['IT']+'<br>'+\\\n",
    "    'Finance '+df['Finance'] +'<br>'+\\\n",
    "    'Social Workers ' + df['Social Workers']\n",
    "\n",
    "data = [ dict(\n",
    "        type='choropleth',\n",
    "        colorscale = scl,\n",
    "        autocolorscale = False,\n",
    "        locations = df['State Code'],\n",
    "        z = df['Total Jobs'].astype(float),\n",
    "        locationmode = 'USA-states',\n",
    "        text = df['text'],\n",
    "        marker = dict(\n",
    "            line = dict (\n",
    "                color = 'rgb(255,255,255)',\n",
    "                width = 2\n",
    "            )\n",
    "        ),\n",
    "        colorbar = dict(\n",
    "            title = \"Million Jobs\"\n",
    "        )\n",
    "    ) ]\n",
    "\n",
    "layout = dict(\n",
    "        title = 'US Job Trend Distributed Across all States (Hover for breakdown)',\n",
    "        geo = dict(\n",
    "            scope='usa',\n",
    "            projection=dict( type='albers usa' ),\n",
    "            showlakes = True,\n",
    "            lakecolor = 'rgb(255, 255, 255)',\n",
    "        ),\n",
    "    )\n",
    "\n",
    "fig = dict( data=data, layout=layout )\n",
    "iplot( fig, filename='d3-cloropleth-map' )"
   ]
  }
 ],
 "metadata": {
  "anaconda-cloud": {},
  "kernelspec": {
   "display_name": "Python 3",
   "language": "python",
   "name": "python3"
  },
  "language_info": {
   "codemirror_mode": {
    "name": "ipython",
    "version": 3
   },
   "file_extension": ".py",
   "mimetype": "text/x-python",
   "name": "python",
   "nbconvert_exporter": "python",
   "pygments_lexer": "ipython3",
   "version": "3.7.3"
  }
 },
 "nbformat": 4,
 "nbformat_minor": 1
}
